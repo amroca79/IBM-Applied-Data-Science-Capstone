{
    "cells": [
        {
            "cell_type": "markdown",
            "metadata": {
                "collapsed": true
            },
            "source": "### Determine the outcome for SpaceX Falcon 9's landing  success rate.  \n\n - For this final assignment in Applied Data Science Course, we'll be using the data collected from SpaceX REST API and Wikipedia to predict whether SpaceX will attempt to land a Falcon 9 first stage Rocket or not.\n \n \n\n#### Tasks:\n\n- SpaceX API Request/Data Clean: Collect and clean data for Falcon 9 using Spacex API .\n\n- Falcon 9 Web Scrapping Data Collection: Scrape and clean data for Falcon 9 launches from Wikipedia.\n\n- Falcon 9 Data Wrangling: Use Exploratory Data Analysis(EDA) to determine the training labels for the landing outcomes.\n\n- Exploratory Data Analysis with SQL: Load dataset to DB2 database. Use Watson Notebook to access the DB2 database and perform commands to understand the Dataset.\n\n- Exploratory Data Analysis and Feature Engineering: Analyse Falcon 9 dataset using visualization plots and prepare the data for modeling by transforming all categorical features to multi-class and binary labels.\n\n- Launch Sites Locations Analysis with Folium: Mark Launch Sites on the map. Mark successful/failed launches for each site. Calculate the distance from one of the sites and its proximities.\n\n- Build an Interactive Dashboard with Plotty Dash: Build and deploy an Interactive dashboard app. Add a pie chart with launch success rates per site. Add a scatter plot with launch success rate per Rocket Booster Version, and Payload.\n\n- Falcon 9 First Stage Landing Prediction Lab: Create an array with the 'Class' columnn from the 'data' dataframe. Create an array with 'X' dataframe. Standardize the data. Split the data into train and test sets. Find best Hyperparameters fot the classification models.\n\n\n#### Tools:\n\n- Use Spacex Rest API endpoints api.spacexdata.com/v4/capsules, api.spacexdata.com/v4/cores, api.spacexdata.com/v4/launches/past:\n\n- Use Python Beautiful Soup for scraping Wiki pages containing SpaceX launch information. https://en.wikipedia.org/wiki/List_of_Falcon_9_and_Falcon_Heavy_launches\n\n- Use Pandas and Numpy libraries to create a column with the training labels.\n\n- Use sqlalchemy, ibm_db_sa and iphyton-sql to access and manipulate the DB2 database.\n\n- Use pandas, numpy libraries for data manipulation. Use Matplotlib and Seaborn for visualization. Use get_dummies from pandas library for feature engineering.\n\n- Use pandas library for data manipulation, and folium for visualization.\n\n- Use VsCode as the IDE. Use Ploty Dash to build the app. Use pandas for data manipulation. Use Plotly Experss for plotting the charts.\n\n- Use pandas and numpy libraries for data manipulation. Use Matplotlib and Seaborn for data visualization. Use Sklearn for prediction model."
        },
        {
            "cell_type": "code",
            "execution_count": null,
            "metadata": {},
            "outputs": [],
            "source": ""
        }
    ],
    "metadata": {
        "kernelspec": {
            "display_name": "Python 3.8",
            "language": "python",
            "name": "python3"
        },
        "language_info": {
            "codemirror_mode": {
                "name": "ipython",
                "version": 3
            },
            "file_extension": ".py",
            "mimetype": "text/x-python",
            "name": "python",
            "nbconvert_exporter": "python",
            "pygments_lexer": "ipython3",
            "version": "3.8.12"
        }
    },
    "nbformat": 4,
    "nbformat_minor": 1
}