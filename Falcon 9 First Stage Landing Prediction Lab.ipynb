{
    "cells": [
        {
            "cell_type": "code",
            "execution_count": 1,
            "metadata": {},
            "outputs": [],
            "source": "# The code was removed by Watson Studio for sharing."
        },
        {
            "cell_type": "markdown",
            "metadata": {},
            "source": "# **Space X  Falcon 9 First Stage Landing Prediction**\n"
        },
        {
            "cell_type": "markdown",
            "metadata": {},
            "source": "## Assignment:  Machine Learning Prediction\n"
        },
        {
            "cell_type": "markdown",
            "metadata": {},
            "source": "Estimated time needed: **60** minutes\n"
        },
        {
            "cell_type": "markdown",
            "metadata": {},
            "source": "Space X advertises Falcon 9 rocket launches on its website with a cost of 62 million dollars; other providers cost upward of 165 million dollars each, much of the savings is because Space X can reuse the first stage. Therefore if we can determine if the first stage will land, we can determine the cost of a launch. This information can be used if an alternate company wants to bid against space X for a rocket launch.   In this lab, you will create a machine learning pipeline  to predict if the first stage will land given the data from the preceding labs.\n"
        },
        {
            "cell_type": "markdown",
            "metadata": {},
            "source": "![](https://cf-courses-data.s3.us.cloud-object-storage.appdomain.cloud/IBMDeveloperSkillsNetwork-DS0701EN-SkillsNetwork/api/Images/landing\\_1.gif)\n"
        },
        {
            "cell_type": "markdown",
            "metadata": {},
            "source": "Several examples of an unsuccessful landing are shown here:\n"
        },
        {
            "cell_type": "markdown",
            "metadata": {},
            "source": "![](https://cf-courses-data.s3.us.cloud-object-storage.appdomain.cloud/IBMDeveloperSkillsNetwork-DS0701EN-SkillsNetwork/api/Images/crash.gif)\n"
        },
        {
            "cell_type": "markdown",
            "metadata": {},
            "source": "Most unsuccessful landings are planed. Space X; performs a controlled landing in the oceans.\n"
        },
        {
            "cell_type": "markdown",
            "metadata": {},
            "source": "## Objectives\n"
        },
        {
            "cell_type": "markdown",
            "metadata": {},
            "source": "Perform exploratory  Data Analysis and determine Training Labels\n\n*   create a column for the class\n*   Standardize the data\n*   Split into training data and test data\n\n\\-Find best Hyperparameter for SVM, Classification Trees and Logistic Regression\n\n*   Find the method performs best using test data\n"
        },
        {
            "cell_type": "markdown",
            "metadata": {},
            "source": "## Import Libraries and Define Auxiliary Functions\n"
        },
        {
            "cell_type": "markdown",
            "metadata": {},
            "source": "We will import the following libraries for the lab\n"
        },
        {
            "cell_type": "code",
            "execution_count": 2,
            "metadata": {},
            "outputs": [],
            "source": "# Pandas is a software library written for the Python programming language for data manipulation and analysis.\nimport pandas as pd\n# NumPy is a library for the Python programming language, adding support for large, multi-dimensional arrays and matrices, along with a large collection of high-level mathematical functions to operate on these arrays\nimport numpy as np\n# Matplotlib is a plotting library for python and pyplot gives us a MatLab like plotting framework. We will use this in our plotter function to plot data.\nimport matplotlib.pyplot as plt\n#Seaborn is a Python data visualization library based on matplotlib. It provides a high-level interface for drawing attractive and informative statistical graphics\nimport seaborn as sns\n# Preprocessing allows us to standarsize our data\nfrom sklearn import preprocessing\n# Allows us to split our data into training and testing data\nfrom sklearn.model_selection import train_test_split\n# Allows us to test parameters of classification algorithms and find the best one\nfrom sklearn.model_selection import GridSearchCV\n# Logistic Regression classification algorithm\nfrom sklearn.linear_model import LogisticRegression\n# Support Vector Machine classification algorithm\nfrom sklearn.svm import SVC\n# Decision Tree classification algorithm\nfrom sklearn.tree import DecisionTreeClassifier\n# K Nearest Neighbors classification algorithm\nfrom sklearn.neighbors import KNeighborsClassifier\n# Import metrics from sklearn\nfrom sklearn import metrics\n# Import cross_val_score to compare models\nfrom sklearn.model_selection import KFold, cross_val_score\n#import sys\nimport sys\npd.set_option('display.max_rows', None)\npd.set_option('display.max_columns', None)\nnp.set_printoptions(threshold=sys.maxsize)"
        },
        {
            "cell_type": "markdown",
            "metadata": {},
            "source": "This function is to plot the confusion matrix.\n"
        },
        {
            "cell_type": "code",
            "execution_count": 3,
            "metadata": {},
            "outputs": [],
            "source": "def plot_confusion_matrix(y,y_predict):\n    \"this function plots the confusion matrix\"\n    from sklearn.metrics import confusion_matrix\n\n    cm = confusion_matrix(y, y_predict)\n    ax= plt.subplot()\n    sns.heatmap(cm, annot=True, ax = ax); #annot=True to annotate cells\n    ax.set_xlabel('Predicted labels')\n    ax.set_ylabel('True labels')\n    ax.set_title('Confusion Matrix'); \n    ax.xaxis.set_ticklabels(['did not land', 'landed']); ax.yaxis.set_ticklabels(['did not land', 'landed'])"
        },
        {
            "cell_type": "markdown",
            "metadata": {},
            "source": "## Load the dataframe\n"
        },
        {
            "cell_type": "markdown",
            "metadata": {},
            "source": "Load the data\n"
        },
        {
            "cell_type": "code",
            "execution_count": 4,
            "metadata": {
                "scrolled": true
            },
            "outputs": [
                {
                    "name": "stdout",
                    "output_type": "stream",
                    "text": "(132, 21)\n"
                },
                {
                    "data": {
                        "text/html": "<div>\n<style scoped>\n    .dataframe tbody tr th:only-of-type {\n        vertical-align: middle;\n    }\n\n    .dataframe tbody tr th {\n        vertical-align: top;\n    }\n\n    .dataframe thead th {\n        text-align: right;\n    }\n</style>\n<table border=\"1\" class=\"dataframe\">\n  <thead>\n    <tr style=\"text-align: right;\">\n      <th></th>\n      <th>FlightNumber</th>\n      <th>Date</th>\n      <th>BoosterVersion</th>\n      <th>PayloadMass</th>\n      <th>Orbit</th>\n      <th>PayloadName</th>\n      <th>Customer</th>\n      <th>Outcome</th>\n      <th>Flights</th>\n      <th>GridFins</th>\n      <th>Reused</th>\n      <th>Legs</th>\n      <th>LandingPad</th>\n      <th>Block</th>\n      <th>Serial</th>\n      <th>ReusedCount</th>\n      <th>LaunchSite</th>\n      <th>Longitude</th>\n      <th>Latitude</th>\n      <th>Block_Version</th>\n      <th>Class</th>\n    </tr>\n  </thead>\n  <tbody>\n    <tr>\n      <th>0</th>\n      <td>1</td>\n      <td>2010-06-04</td>\n      <td>Falcon 9</td>\n      <td>7407.0</td>\n      <td>LEO</td>\n      <td>Dragon Qualification Unit</td>\n      <td>SpaceX</td>\n      <td>None None</td>\n      <td>1</td>\n      <td>False</td>\n      <td>False</td>\n      <td>False</td>\n      <td>NaN</td>\n      <td>1.0</td>\n      <td>B0003</td>\n      <td>0</td>\n      <td>CCSFS SLC 40</td>\n      <td>-80.577366</td>\n      <td>28.561857</td>\n      <td>v1.0</td>\n      <td>0</td>\n    </tr>\n    <tr>\n      <th>1</th>\n      <td>2</td>\n      <td>2012-05-22</td>\n      <td>Falcon 9</td>\n      <td>525.0</td>\n      <td>LEO</td>\n      <td>COTS Demo Flight 2</td>\n      <td>NASA(COTS)</td>\n      <td>None None</td>\n      <td>1</td>\n      <td>False</td>\n      <td>False</td>\n      <td>False</td>\n      <td>NaN</td>\n      <td>1.0</td>\n      <td>B0005</td>\n      <td>0</td>\n      <td>CCSFS SLC 40</td>\n      <td>-80.577366</td>\n      <td>28.561857</td>\n      <td>v1.0</td>\n      <td>0</td>\n    </tr>\n    <tr>\n      <th>2</th>\n      <td>3</td>\n      <td>2013-03-01</td>\n      <td>Falcon 9</td>\n      <td>677.0</td>\n      <td>ISS</td>\n      <td>CRS-2</td>\n      <td>NASA (CRS)</td>\n      <td>None None</td>\n      <td>1</td>\n      <td>False</td>\n      <td>False</td>\n      <td>False</td>\n      <td>NaN</td>\n      <td>1.0</td>\n      <td>B0007</td>\n      <td>0</td>\n      <td>CCSFS SLC 40</td>\n      <td>-80.577366</td>\n      <td>28.561857</td>\n      <td>v1.0</td>\n      <td>0</td>\n    </tr>\n    <tr>\n      <th>3</th>\n      <td>4</td>\n      <td>2013-09-29</td>\n      <td>Falcon 9</td>\n      <td>500.0</td>\n      <td>PO</td>\n      <td>CASSIOPE</td>\n      <td>MDA</td>\n      <td>False Ocean</td>\n      <td>1</td>\n      <td>False</td>\n      <td>False</td>\n      <td>False</td>\n      <td>NaN</td>\n      <td>1.0</td>\n      <td>B1003</td>\n      <td>0</td>\n      <td>VAFB SLC 4E</td>\n      <td>-120.610829</td>\n      <td>34.632093</td>\n      <td>v1.0</td>\n      <td>0</td>\n    </tr>\n    <tr>\n      <th>4</th>\n      <td>5</td>\n      <td>2013-12-03</td>\n      <td>Falcon 9</td>\n      <td>3170.0</td>\n      <td>GTO</td>\n      <td>SES-8</td>\n      <td>SES</td>\n      <td>None None</td>\n      <td>1</td>\n      <td>False</td>\n      <td>False</td>\n      <td>False</td>\n      <td>NaN</td>\n      <td>1.0</td>\n      <td>B1004</td>\n      <td>0</td>\n      <td>CCSFS SLC 40</td>\n      <td>-80.577366</td>\n      <td>28.561857</td>\n      <td>v1.0</td>\n      <td>0</td>\n    </tr>\n  </tbody>\n</table>\n</div>",
                        "text/plain": "   FlightNumber        Date BoosterVersion  PayloadMass Orbit  \\\n0             1  2010-06-04       Falcon 9       7407.0   LEO   \n1             2  2012-05-22       Falcon 9        525.0   LEO   \n2             3  2013-03-01       Falcon 9        677.0   ISS   \n3             4  2013-09-29       Falcon 9        500.0    PO   \n4             5  2013-12-03       Falcon 9       3170.0   GTO   \n\n                 PayloadName    Customer      Outcome  Flights  GridFins  \\\n0  Dragon Qualification Unit      SpaceX    None None        1     False   \n1         COTS Demo Flight 2  NASA(COTS)    None None        1     False   \n2                      CRS-2  NASA (CRS)    None None        1     False   \n3                   CASSIOPE         MDA  False Ocean        1     False   \n4                      SES-8         SES    None None        1     False   \n\n   Reused   Legs LandingPad  Block Serial  ReusedCount    LaunchSite  \\\n0   False  False        NaN    1.0  B0003            0  CCSFS SLC 40   \n1   False  False        NaN    1.0  B0005            0  CCSFS SLC 40   \n2   False  False        NaN    1.0  B0007            0  CCSFS SLC 40   \n3   False  False        NaN    1.0  B1003            0   VAFB SLC 4E   \n4   False  False        NaN    1.0  B1004            0  CCSFS SLC 40   \n\n    Longitude   Latitude Block_Version  Class  \n0  -80.577366  28.561857          v1.0      0  \n1  -80.577366  28.561857          v1.0      0  \n2  -80.577366  28.561857          v1.0      0  \n3 -120.610829  34.632093          v1.0      0  \n4  -80.577366  28.561857          v1.0      0  "
                    },
                    "execution_count": 4,
                    "metadata": {},
                    "output_type": "execute_result"
                }
            ],
            "source": "data = pd.read_csv(project.get_file('pre_data_feature.csv'))\n\nprint(data.shape)\ndata.head()"
        },
        {
            "cell_type": "markdown",
            "metadata": {},
            "source": "Count the values in the 'Class' column. Normalize to check if the data is skewed."
        },
        {
            "cell_type": "code",
            "execution_count": 5,
            "metadata": {
                "scrolled": false
            },
            "outputs": [
                {
                    "data": {
                        "text/plain": "1    0.765152\n0    0.234848\nName: Class, dtype: float64"
                    },
                    "execution_count": 5,
                    "metadata": {},
                    "output_type": "execute_result"
                }
            ],
            "source": "data['Class'].value_counts(normalize=True)"
        },
        {
            "cell_type": "markdown",
            "metadata": {},
            "source": "Load the One_Hot_Encode Dataframe created in the previous notebook."
        },
        {
            "cell_type": "code",
            "execution_count": 6,
            "metadata": {
                "scrolled": true
            },
            "outputs": [
                {
                    "data": {
                        "text/html": "<div>\n<style scoped>\n    .dataframe tbody tr th:only-of-type {\n        vertical-align: middle;\n    }\n\n    .dataframe tbody tr th {\n        vertical-align: top;\n    }\n\n    .dataframe thead th {\n        text-align: right;\n    }\n</style>\n<table border=\"1\" class=\"dataframe\">\n  <thead>\n    <tr style=\"text-align: right;\">\n      <th></th>\n      <th>FlightNumber</th>\n      <th>PayloadMass</th>\n      <th>Flights</th>\n      <th>GridFins</th>\n      <th>Reused</th>\n      <th>Legs</th>\n      <th>Block</th>\n      <th>ReusedCount</th>\n      <th>Orbit_ES-L1</th>\n      <th>Orbit_GEO</th>\n      <th>Orbit_GTO</th>\n      <th>Orbit_HEO</th>\n      <th>Orbit_ISS</th>\n      <th>Orbit_LEO</th>\n      <th>Orbit_MEO</th>\n      <th>Orbit_PO</th>\n      <th>Orbit_SO</th>\n      <th>Orbit_SSO</th>\n      <th>Orbit_TLI</th>\n      <th>Orbit_VLEO</th>\n      <th>LaunchSite_CCSFS SLC 40</th>\n      <th>LaunchSite_KSC LC 39A</th>\n      <th>LaunchSite_VAFB SLC 4E</th>\n      <th>LandingPad_ASOG</th>\n      <th>LandingPad_JRTI</th>\n      <th>LandingPad_JRTI-1</th>\n      <th>LandingPad_LZ-1</th>\n      <th>LandingPad_LZ-4</th>\n      <th>LandingPad_OCISLY</th>\n      <th>Serial_B0003</th>\n      <th>Serial_B0005</th>\n      <th>Serial_B0007</th>\n      <th>Serial_B1003</th>\n      <th>Serial_B1004</th>\n      <th>Serial_B1005</th>\n      <th>Serial_B1006</th>\n      <th>Serial_B1007</th>\n      <th>Serial_B1008</th>\n      <th>Serial_B1010</th>\n      <th>Serial_B1011</th>\n      <th>Serial_B1012</th>\n      <th>Serial_B1013</th>\n      <th>Serial_B1015</th>\n      <th>Serial_B1016</th>\n      <th>Serial_B1017</th>\n      <th>Serial_B1018</th>\n      <th>Serial_B1019</th>\n      <th>Serial_B1020</th>\n      <th>Serial_B1021</th>\n      <th>Serial_B1022</th>\n      <th>Serial_B1023</th>\n      <th>Serial_B1025</th>\n      <th>Serial_B1026</th>\n      <th>Serial_B1028</th>\n      <th>Serial_B1029</th>\n      <th>Serial_B1030</th>\n      <th>Serial_B1031</th>\n      <th>Serial_B1032</th>\n      <th>Serial_B1034</th>\n      <th>Serial_B1035</th>\n      <th>Serial_B1036</th>\n      <th>Serial_B1037</th>\n      <th>Serial_B1038</th>\n      <th>Serial_B1039</th>\n      <th>Serial_B1040</th>\n      <th>Serial_B1041</th>\n      <th>Serial_B1042</th>\n      <th>Serial_B1043</th>\n      <th>Serial_B1044</th>\n      <th>Serial_B1045</th>\n      <th>Serial_B1046</th>\n      <th>Serial_B1047</th>\n      <th>Serial_B1048</th>\n      <th>Serial_B1049</th>\n      <th>Serial_B1050</th>\n      <th>Serial_B1051</th>\n      <th>Serial_B1052</th>\n      <th>Serial_B1054</th>\n      <th>Serial_B1056</th>\n      <th>Serial_B1058</th>\n      <th>Serial_B1059</th>\n      <th>Serial_B1060</th>\n      <th>Serial_B1061</th>\n      <th>Serial_B1062</th>\n      <th>Serial_B1063</th>\n      <th>Serial_B1067</th>\n      <th>Serial_B1069</th>\n      <th>Serial_B1071</th>\n    </tr>\n  </thead>\n  <tbody>\n    <tr>\n      <th>0</th>\n      <td>1.0</td>\n      <td>7407.0</td>\n      <td>1.0</td>\n      <td>0.0</td>\n      <td>0.0</td>\n      <td>0.0</td>\n      <td>1.0</td>\n      <td>0.0</td>\n      <td>0.0</td>\n      <td>0.0</td>\n      <td>0.0</td>\n      <td>0.0</td>\n      <td>0.0</td>\n      <td>1.0</td>\n      <td>0.0</td>\n      <td>0.0</td>\n      <td>0.0</td>\n      <td>0.0</td>\n      <td>0.0</td>\n      <td>0.0</td>\n      <td>1.0</td>\n      <td>0.0</td>\n      <td>0.0</td>\n      <td>0.0</td>\n      <td>0.0</td>\n      <td>0.0</td>\n      <td>0.0</td>\n      <td>0.0</td>\n      <td>0.0</td>\n      <td>1.0</td>\n      <td>0.0</td>\n      <td>0.0</td>\n      <td>0.0</td>\n      <td>0.0</td>\n      <td>0.0</td>\n      <td>0.0</td>\n      <td>0.0</td>\n      <td>0.0</td>\n      <td>0.0</td>\n      <td>0.0</td>\n      <td>0.0</td>\n      <td>0.0</td>\n      <td>0.0</td>\n      <td>0.0</td>\n      <td>0.0</td>\n      <td>0.0</td>\n      <td>0.0</td>\n      <td>0.0</td>\n      <td>0.0</td>\n      <td>0.0</td>\n      <td>0.0</td>\n      <td>0.0</td>\n      <td>0.0</td>\n      <td>0.0</td>\n      <td>0.0</td>\n      <td>0.0</td>\n      <td>0.0</td>\n      <td>0.0</td>\n      <td>0.0</td>\n      <td>0.0</td>\n      <td>0.0</td>\n      <td>0.0</td>\n      <td>0.0</td>\n      <td>0.0</td>\n      <td>0.0</td>\n      <td>0.0</td>\n      <td>0.0</td>\n      <td>0.0</td>\n      <td>0.0</td>\n      <td>0.0</td>\n      <td>0.0</td>\n      <td>0.0</td>\n      <td>0.0</td>\n      <td>0.0</td>\n      <td>0.0</td>\n      <td>0.0</td>\n      <td>0.0</td>\n      <td>0.0</td>\n      <td>0.0</td>\n      <td>0.0</td>\n      <td>0.0</td>\n      <td>0.0</td>\n      <td>0.0</td>\n      <td>0.0</td>\n      <td>0.0</td>\n      <td>0.0</td>\n      <td>0.0</td>\n      <td>0.0</td>\n    </tr>\n    <tr>\n      <th>1</th>\n      <td>2.0</td>\n      <td>525.0</td>\n      <td>1.0</td>\n      <td>0.0</td>\n      <td>0.0</td>\n      <td>0.0</td>\n      <td>1.0</td>\n      <td>0.0</td>\n      <td>0.0</td>\n      <td>0.0</td>\n      <td>0.0</td>\n      <td>0.0</td>\n      <td>0.0</td>\n      <td>1.0</td>\n      <td>0.0</td>\n      <td>0.0</td>\n      <td>0.0</td>\n      <td>0.0</td>\n      <td>0.0</td>\n      <td>0.0</td>\n      <td>1.0</td>\n      <td>0.0</td>\n      <td>0.0</td>\n      <td>0.0</td>\n      <td>0.0</td>\n      <td>0.0</td>\n      <td>0.0</td>\n      <td>0.0</td>\n      <td>0.0</td>\n      <td>0.0</td>\n      <td>1.0</td>\n      <td>0.0</td>\n      <td>0.0</td>\n      <td>0.0</td>\n      <td>0.0</td>\n      <td>0.0</td>\n      <td>0.0</td>\n      <td>0.0</td>\n      <td>0.0</td>\n      <td>0.0</td>\n      <td>0.0</td>\n      <td>0.0</td>\n      <td>0.0</td>\n      <td>0.0</td>\n      <td>0.0</td>\n      <td>0.0</td>\n      <td>0.0</td>\n      <td>0.0</td>\n      <td>0.0</td>\n      <td>0.0</td>\n      <td>0.0</td>\n      <td>0.0</td>\n      <td>0.0</td>\n      <td>0.0</td>\n      <td>0.0</td>\n      <td>0.0</td>\n      <td>0.0</td>\n      <td>0.0</td>\n      <td>0.0</td>\n      <td>0.0</td>\n      <td>0.0</td>\n      <td>0.0</td>\n      <td>0.0</td>\n      <td>0.0</td>\n      <td>0.0</td>\n      <td>0.0</td>\n      <td>0.0</td>\n      <td>0.0</td>\n      <td>0.0</td>\n      <td>0.0</td>\n      <td>0.0</td>\n      <td>0.0</td>\n      <td>0.0</td>\n      <td>0.0</td>\n      <td>0.0</td>\n      <td>0.0</td>\n      <td>0.0</td>\n      <td>0.0</td>\n      <td>0.0</td>\n      <td>0.0</td>\n      <td>0.0</td>\n      <td>0.0</td>\n      <td>0.0</td>\n      <td>0.0</td>\n      <td>0.0</td>\n      <td>0.0</td>\n      <td>0.0</td>\n      <td>0.0</td>\n    </tr>\n    <tr>\n      <th>2</th>\n      <td>3.0</td>\n      <td>677.0</td>\n      <td>1.0</td>\n      <td>0.0</td>\n      <td>0.0</td>\n      <td>0.0</td>\n      <td>1.0</td>\n      <td>0.0</td>\n      <td>0.0</td>\n      <td>0.0</td>\n      <td>0.0</td>\n      <td>0.0</td>\n      <td>1.0</td>\n      <td>0.0</td>\n      <td>0.0</td>\n      <td>0.0</td>\n      <td>0.0</td>\n      <td>0.0</td>\n      <td>0.0</td>\n      <td>0.0</td>\n      <td>1.0</td>\n      <td>0.0</td>\n      <td>0.0</td>\n      <td>0.0</td>\n      <td>0.0</td>\n      <td>0.0</td>\n      <td>0.0</td>\n      <td>0.0</td>\n      <td>0.0</td>\n      <td>0.0</td>\n      <td>0.0</td>\n      <td>1.0</td>\n      <td>0.0</td>\n      <td>0.0</td>\n      <td>0.0</td>\n      <td>0.0</td>\n      <td>0.0</td>\n      <td>0.0</td>\n      <td>0.0</td>\n      <td>0.0</td>\n      <td>0.0</td>\n      <td>0.0</td>\n      <td>0.0</td>\n      <td>0.0</td>\n      <td>0.0</td>\n      <td>0.0</td>\n      <td>0.0</td>\n      <td>0.0</td>\n      <td>0.0</td>\n      <td>0.0</td>\n      <td>0.0</td>\n      <td>0.0</td>\n      <td>0.0</td>\n      <td>0.0</td>\n      <td>0.0</td>\n      <td>0.0</td>\n      <td>0.0</td>\n      <td>0.0</td>\n      <td>0.0</td>\n      <td>0.0</td>\n      <td>0.0</td>\n      <td>0.0</td>\n      <td>0.0</td>\n      <td>0.0</td>\n      <td>0.0</td>\n      <td>0.0</td>\n      <td>0.0</td>\n      <td>0.0</td>\n      <td>0.0</td>\n      <td>0.0</td>\n      <td>0.0</td>\n      <td>0.0</td>\n      <td>0.0</td>\n      <td>0.0</td>\n      <td>0.0</td>\n      <td>0.0</td>\n      <td>0.0</td>\n      <td>0.0</td>\n      <td>0.0</td>\n      <td>0.0</td>\n      <td>0.0</td>\n      <td>0.0</td>\n      <td>0.0</td>\n      <td>0.0</td>\n      <td>0.0</td>\n      <td>0.0</td>\n      <td>0.0</td>\n      <td>0.0</td>\n    </tr>\n    <tr>\n      <th>3</th>\n      <td>4.0</td>\n      <td>500.0</td>\n      <td>1.0</td>\n      <td>0.0</td>\n      <td>0.0</td>\n      <td>0.0</td>\n      <td>1.0</td>\n      <td>0.0</td>\n      <td>0.0</td>\n      <td>0.0</td>\n      <td>0.0</td>\n      <td>0.0</td>\n      <td>0.0</td>\n      <td>0.0</td>\n      <td>0.0</td>\n      <td>1.0</td>\n      <td>0.0</td>\n      <td>0.0</td>\n      <td>0.0</td>\n      <td>0.0</td>\n      <td>0.0</td>\n      <td>0.0</td>\n      <td>1.0</td>\n      <td>0.0</td>\n      <td>0.0</td>\n      <td>0.0</td>\n      <td>0.0</td>\n      <td>0.0</td>\n      <td>0.0</td>\n      <td>0.0</td>\n      <td>0.0</td>\n      <td>0.0</td>\n      <td>1.0</td>\n      <td>0.0</td>\n      <td>0.0</td>\n      <td>0.0</td>\n      <td>0.0</td>\n      <td>0.0</td>\n      <td>0.0</td>\n      <td>0.0</td>\n      <td>0.0</td>\n      <td>0.0</td>\n      <td>0.0</td>\n      <td>0.0</td>\n      <td>0.0</td>\n      <td>0.0</td>\n      <td>0.0</td>\n      <td>0.0</td>\n      <td>0.0</td>\n      <td>0.0</td>\n      <td>0.0</td>\n      <td>0.0</td>\n      <td>0.0</td>\n      <td>0.0</td>\n      <td>0.0</td>\n      <td>0.0</td>\n      <td>0.0</td>\n      <td>0.0</td>\n      <td>0.0</td>\n      <td>0.0</td>\n      <td>0.0</td>\n      <td>0.0</td>\n      <td>0.0</td>\n      <td>0.0</td>\n      <td>0.0</td>\n      <td>0.0</td>\n      <td>0.0</td>\n      <td>0.0</td>\n      <td>0.0</td>\n      <td>0.0</td>\n      <td>0.0</td>\n      <td>0.0</td>\n      <td>0.0</td>\n      <td>0.0</td>\n      <td>0.0</td>\n      <td>0.0</td>\n      <td>0.0</td>\n      <td>0.0</td>\n      <td>0.0</td>\n      <td>0.0</td>\n      <td>0.0</td>\n      <td>0.0</td>\n      <td>0.0</td>\n      <td>0.0</td>\n      <td>0.0</td>\n      <td>0.0</td>\n      <td>0.0</td>\n      <td>0.0</td>\n    </tr>\n    <tr>\n      <th>4</th>\n      <td>5.0</td>\n      <td>3170.0</td>\n      <td>1.0</td>\n      <td>0.0</td>\n      <td>0.0</td>\n      <td>0.0</td>\n      <td>1.0</td>\n      <td>0.0</td>\n      <td>0.0</td>\n      <td>0.0</td>\n      <td>1.0</td>\n      <td>0.0</td>\n      <td>0.0</td>\n      <td>0.0</td>\n      <td>0.0</td>\n      <td>0.0</td>\n      <td>0.0</td>\n      <td>0.0</td>\n      <td>0.0</td>\n      <td>0.0</td>\n      <td>1.0</td>\n      <td>0.0</td>\n      <td>0.0</td>\n      <td>0.0</td>\n      <td>0.0</td>\n      <td>0.0</td>\n      <td>0.0</td>\n      <td>0.0</td>\n      <td>0.0</td>\n      <td>0.0</td>\n      <td>0.0</td>\n      <td>0.0</td>\n      <td>0.0</td>\n      <td>1.0</td>\n      <td>0.0</td>\n      <td>0.0</td>\n      <td>0.0</td>\n      <td>0.0</td>\n      <td>0.0</td>\n      <td>0.0</td>\n      <td>0.0</td>\n      <td>0.0</td>\n      <td>0.0</td>\n      <td>0.0</td>\n      <td>0.0</td>\n      <td>0.0</td>\n      <td>0.0</td>\n      <td>0.0</td>\n      <td>0.0</td>\n      <td>0.0</td>\n      <td>0.0</td>\n      <td>0.0</td>\n      <td>0.0</td>\n      <td>0.0</td>\n      <td>0.0</td>\n      <td>0.0</td>\n      <td>0.0</td>\n      <td>0.0</td>\n      <td>0.0</td>\n      <td>0.0</td>\n      <td>0.0</td>\n      <td>0.0</td>\n      <td>0.0</td>\n      <td>0.0</td>\n      <td>0.0</td>\n      <td>0.0</td>\n      <td>0.0</td>\n      <td>0.0</td>\n      <td>0.0</td>\n      <td>0.0</td>\n      <td>0.0</td>\n      <td>0.0</td>\n      <td>0.0</td>\n      <td>0.0</td>\n      <td>0.0</td>\n      <td>0.0</td>\n      <td>0.0</td>\n      <td>0.0</td>\n      <td>0.0</td>\n      <td>0.0</td>\n      <td>0.0</td>\n      <td>0.0</td>\n      <td>0.0</td>\n      <td>0.0</td>\n      <td>0.0</td>\n      <td>0.0</td>\n      <td>0.0</td>\n      <td>0.0</td>\n    </tr>\n  </tbody>\n</table>\n</div>",
                        "text/plain": "   FlightNumber  PayloadMass  Flights  GridFins  Reused  Legs  Block  \\\n0           1.0       7407.0      1.0       0.0     0.0   0.0    1.0   \n1           2.0        525.0      1.0       0.0     0.0   0.0    1.0   \n2           3.0        677.0      1.0       0.0     0.0   0.0    1.0   \n3           4.0        500.0      1.0       0.0     0.0   0.0    1.0   \n4           5.0       3170.0      1.0       0.0     0.0   0.0    1.0   \n\n   ReusedCount  Orbit_ES-L1  Orbit_GEO  Orbit_GTO  Orbit_HEO  Orbit_ISS  \\\n0          0.0          0.0        0.0        0.0        0.0        0.0   \n1          0.0          0.0        0.0        0.0        0.0        0.0   \n2          0.0          0.0        0.0        0.0        0.0        1.0   \n3          0.0          0.0        0.0        0.0        0.0        0.0   \n4          0.0          0.0        0.0        1.0        0.0        0.0   \n\n   Orbit_LEO  Orbit_MEO  Orbit_PO  Orbit_SO  Orbit_SSO  Orbit_TLI  Orbit_VLEO  \\\n0        1.0        0.0       0.0       0.0        0.0        0.0         0.0   \n1        1.0        0.0       0.0       0.0        0.0        0.0         0.0   \n2        0.0        0.0       0.0       0.0        0.0        0.0         0.0   \n3        0.0        0.0       1.0       0.0        0.0        0.0         0.0   \n4        0.0        0.0       0.0       0.0        0.0        0.0         0.0   \n\n   LaunchSite_CCSFS SLC 40  LaunchSite_KSC LC 39A  LaunchSite_VAFB SLC 4E  \\\n0                      1.0                    0.0                     0.0   \n1                      1.0                    0.0                     0.0   \n2                      1.0                    0.0                     0.0   \n3                      0.0                    0.0                     1.0   \n4                      1.0                    0.0                     0.0   \n\n   LandingPad_ASOG  LandingPad_JRTI  LandingPad_JRTI-1  LandingPad_LZ-1  \\\n0              0.0              0.0                0.0              0.0   \n1              0.0              0.0                0.0              0.0   \n2              0.0              0.0                0.0              0.0   \n3              0.0              0.0                0.0              0.0   \n4              0.0              0.0                0.0              0.0   \n\n   LandingPad_LZ-4  LandingPad_OCISLY  Serial_B0003  Serial_B0005  \\\n0              0.0                0.0           1.0           0.0   \n1              0.0                0.0           0.0           1.0   \n2              0.0                0.0           0.0           0.0   \n3              0.0                0.0           0.0           0.0   \n4              0.0                0.0           0.0           0.0   \n\n   Serial_B0007  Serial_B1003  Serial_B1004  Serial_B1005  Serial_B1006  \\\n0           0.0           0.0           0.0           0.0           0.0   \n1           0.0           0.0           0.0           0.0           0.0   \n2           1.0           0.0           0.0           0.0           0.0   \n3           0.0           1.0           0.0           0.0           0.0   \n4           0.0           0.0           1.0           0.0           0.0   \n\n   Serial_B1007  Serial_B1008  Serial_B1010  Serial_B1011  Serial_B1012  \\\n0           0.0           0.0           0.0           0.0           0.0   \n1           0.0           0.0           0.0           0.0           0.0   \n2           0.0           0.0           0.0           0.0           0.0   \n3           0.0           0.0           0.0           0.0           0.0   \n4           0.0           0.0           0.0           0.0           0.0   \n\n   Serial_B1013  Serial_B1015  Serial_B1016  Serial_B1017  Serial_B1018  \\\n0           0.0           0.0           0.0           0.0           0.0   \n1           0.0           0.0           0.0           0.0           0.0   \n2           0.0           0.0           0.0           0.0           0.0   \n3           0.0           0.0           0.0           0.0           0.0   \n4           0.0           0.0           0.0           0.0           0.0   \n\n   Serial_B1019  Serial_B1020  Serial_B1021  Serial_B1022  Serial_B1023  \\\n0           0.0           0.0           0.0           0.0           0.0   \n1           0.0           0.0           0.0           0.0           0.0   \n2           0.0           0.0           0.0           0.0           0.0   \n3           0.0           0.0           0.0           0.0           0.0   \n4           0.0           0.0           0.0           0.0           0.0   \n\n   Serial_B1025  Serial_B1026  Serial_B1028  Serial_B1029  Serial_B1030  \\\n0           0.0           0.0           0.0           0.0           0.0   \n1           0.0           0.0           0.0           0.0           0.0   \n2           0.0           0.0           0.0           0.0           0.0   \n3           0.0           0.0           0.0           0.0           0.0   \n4           0.0           0.0           0.0           0.0           0.0   \n\n   Serial_B1031  Serial_B1032  Serial_B1034  Serial_B1035  Serial_B1036  \\\n0           0.0           0.0           0.0           0.0           0.0   \n1           0.0           0.0           0.0           0.0           0.0   \n2           0.0           0.0           0.0           0.0           0.0   \n3           0.0           0.0           0.0           0.0           0.0   \n4           0.0           0.0           0.0           0.0           0.0   \n\n   Serial_B1037  Serial_B1038  Serial_B1039  Serial_B1040  Serial_B1041  \\\n0           0.0           0.0           0.0           0.0           0.0   \n1           0.0           0.0           0.0           0.0           0.0   \n2           0.0           0.0           0.0           0.0           0.0   \n3           0.0           0.0           0.0           0.0           0.0   \n4           0.0           0.0           0.0           0.0           0.0   \n\n   Serial_B1042  Serial_B1043  Serial_B1044  Serial_B1045  Serial_B1046  \\\n0           0.0           0.0           0.0           0.0           0.0   \n1           0.0           0.0           0.0           0.0           0.0   \n2           0.0           0.0           0.0           0.0           0.0   \n3           0.0           0.0           0.0           0.0           0.0   \n4           0.0           0.0           0.0           0.0           0.0   \n\n   Serial_B1047  Serial_B1048  Serial_B1049  Serial_B1050  Serial_B1051  \\\n0           0.0           0.0           0.0           0.0           0.0   \n1           0.0           0.0           0.0           0.0           0.0   \n2           0.0           0.0           0.0           0.0           0.0   \n3           0.0           0.0           0.0           0.0           0.0   \n4           0.0           0.0           0.0           0.0           0.0   \n\n   Serial_B1052  Serial_B1054  Serial_B1056  Serial_B1058  Serial_B1059  \\\n0           0.0           0.0           0.0           0.0           0.0   \n1           0.0           0.0           0.0           0.0           0.0   \n2           0.0           0.0           0.0           0.0           0.0   \n3           0.0           0.0           0.0           0.0           0.0   \n4           0.0           0.0           0.0           0.0           0.0   \n\n   Serial_B1060  Serial_B1061  Serial_B1062  Serial_B1063  Serial_B1067  \\\n0           0.0           0.0           0.0           0.0           0.0   \n1           0.0           0.0           0.0           0.0           0.0   \n2           0.0           0.0           0.0           0.0           0.0   \n3           0.0           0.0           0.0           0.0           0.0   \n4           0.0           0.0           0.0           0.0           0.0   \n\n   Serial_B1069  Serial_B1071  \n0           0.0           0.0  \n1           0.0           0.0  \n2           0.0           0.0  \n3           0.0           0.0  \n4           0.0           0.0  "
                    },
                    "execution_count": 6,
                    "metadata": {},
                    "output_type": "execute_result"
                }
            ],
            "source": "X = pd.read_csv(project.get_file('data_feature.csv'))\n\nX.head()"
        },
        {
            "cell_type": "markdown",
            "metadata": {},
            "source": "Create a baseline dataset for model evaluation comparisson."
        },
        {
            "cell_type": "markdown",
            "metadata": {},
            "source": "## TASK  1\n"
        },
        {
            "cell_type": "markdown",
            "metadata": {},
            "source": "Create a NumPy array from the column <code>Class</code> in <code>data</code>, by applying the method <code>to_numpy()</code>  then\nassign it  to the variable <code>Y</code>,make sure the output is a  Pandas series (only one bracket df\\['name of  column']).\n"
        },
        {
            "cell_type": "code",
            "execution_count": 7,
            "metadata": {},
            "outputs": [],
            "source": "y = np.asarray(data['Class'])"
        },
        {
            "cell_type": "markdown",
            "metadata": {},
            "source": "## TASK  2\n"
        },
        {
            "cell_type": "markdown",
            "metadata": {},
            "source": "Standardize the data in <code>X</code> then reassign it to the variable  <code>X</code> using the transform provided below.\n"
        },
        {
            "cell_type": "code",
            "execution_count": 8,
            "metadata": {},
            "outputs": [],
            "source": "# students get this \ntransform = preprocessing.StandardScaler()"
        },
        {
            "cell_type": "code",
            "execution_count": 9,
            "metadata": {},
            "outputs": [],
            "source": "x = transform.fit(X).transform(X)"
        },
        {
            "cell_type": "markdown",
            "metadata": {},
            "source": "We split the data into training and testing data using the  function  <code>train_test_split</code>.   The training data is divided into validation data, a second set used for training  data; then the models are trained and hyperparameters are selected using the function <code>GridSearchCV</code>.\n"
        },
        {
            "cell_type": "markdown",
            "metadata": {},
            "source": "## TASK  3\n"
        },
        {
            "cell_type": "markdown",
            "metadata": {},
            "source": "Use the function train_test_split to split the data X and Y into training and test data. Set the parameter test_size to  0.2 and random_state to 2. The training data and test data should be assigned to the following labels.\n"
        },
        {
            "cell_type": "markdown",
            "metadata": {},
            "source": "<code>X_train, X_test, Y_train, Y_test</code>\n"
        },
        {
            "cell_type": "code",
            "execution_count": 10,
            "metadata": {},
            "outputs": [],
            "source": "x_train, x_test, y_train, y_test = train_test_split(x, y, test_size=.2, random_state=2, stratify=y) #random_state 2 is better over all models"
        },
        {
            "cell_type": "markdown",
            "metadata": {},
            "source": "Shape of the target variable test sample."
        },
        {
            "cell_type": "code",
            "execution_count": 11,
            "metadata": {},
            "outputs": [
                {
                    "data": {
                        "text/plain": "(27,)"
                    },
                    "execution_count": 11,
                    "metadata": {},
                    "output_type": "execute_result"
                }
            ],
            "source": "y_test.shape"
        },
        {
            "cell_type": "markdown",
            "metadata": {},
            "source": "Count the classes in each split and normalize it to analyse the proper distribution of classes between splits. For prompt results I built a function called <code>split_dist</code>."
        },
        {
            "cell_type": "code",
            "execution_count": 12,
            "metadata": {},
            "outputs": [],
            "source": "def split_dist(y_train, y_test):\n    \n    from collections import Counter\n    \n    train_count =(Counter(y_train))\n    test_count = (Counter(y_test))\n    \n    train_total = sum(train_count.values())\n    test_total = sum(test_count.values())\n    \n    for k, v in train_count.items():\n        n = round((v/train_total)*100)\n        print(f'train_split distribution is {n}% for Class{k}')\n        \n    for k, v in test_count.items():\n        n1 = round((v/test_total)*100)\n        print(f'test_split distribution is {n1}% for Class{k}')"
        },
        {
            "cell_type": "markdown",
            "metadata": {},
            "source": "Call the <code>split_dist</code> function. The manipulation of <code>test_size</code>, <code>random_state</code>, and <code>stratify</code> in <code>train_test_split</code> affects the output of this function. "
        },
        {
            "cell_type": "code",
            "execution_count": 13,
            "metadata": {},
            "outputs": [
                {
                    "name": "stdout",
                    "output_type": "stream",
                    "text": "train_split distribution is 76% for Class1\ntrain_split distribution is 24% for Class0\ntest_split distribution is 78% for Class1\ntest_split distribution is 22% for Class0\n"
                }
            ],
            "source": "split_dist(y_train, y_test)"
        },
        {
            "cell_type": "markdown",
            "metadata": {},
            "source": "## TASK  4\n"
        },
        {
            "cell_type": "markdown",
            "metadata": {},
            "source": "Create a logistic regression object  then create a  GridSearchCV object  <code>logreg_cv</code> with cv = 10.  Fit the object to find the best parameters from the dictionary <code>parameters</code>.\n"
        },
        {
            "cell_type": "code",
            "execution_count": 14,
            "metadata": {},
            "outputs": [],
            "source": "parameters ={\"C\":[.0001, .001, .01, .1, 1],'penalty':['l2'], 'solver':['lbfgs']}# l1 lasso l2 ridge\nlr=LogisticRegression()"
        },
        {
            "cell_type": "code",
            "execution_count": 15,
            "metadata": {},
            "outputs": [],
            "source": "logreg_cv = GridSearchCV(lr, parameters,  cv=10)"
        },
        {
            "cell_type": "code",
            "execution_count": 16,
            "metadata": {},
            "outputs": [
                {
                    "data": {
                        "text/plain": "GridSearchCV(cv=10, estimator=LogisticRegression(),\n             param_grid={'C': [0.0001, 0.001, 0.01, 0.1, 1], 'penalty': ['l2'],\n                         'solver': ['lbfgs']})"
                    },
                    "execution_count": 16,
                    "metadata": {},
                    "output_type": "execute_result"
                }
            ],
            "source": "logreg_cv.fit(x_train, y_train)"
        },
        {
            "cell_type": "markdown",
            "metadata": {},
            "source": "We output the <code>GridSearchCV</code> object for logistic regression. We display the best parameters using the data attribute <code>best_params\\_</code> and the accuracy on the validation data using the data attribute <code>best_score\\_</code>.\n"
        },
        {
            "cell_type": "code",
            "execution_count": 17,
            "metadata": {
                "scrolled": false
            },
            "outputs": [
                {
                    "name": "stdout",
                    "output_type": "stream",
                    "text": "tuned hpyerparameters :(best parameters)  {'C': 0.1, 'penalty': 'l2', 'solver': 'lbfgs'}\naccuracy : 0.8490909090909092\nbest estimator: LogisticRegression(C=0.1)\n"
                }
            ],
            "source": "print(\"tuned hpyerparameters :(best parameters) \",logreg_cv.best_params_)\nprint(\"accuracy :\",logreg_cv.best_score_)\nprint(\"best estimator:\", logreg_cv.best_estimator_)"
        },
        {
            "cell_type": "markdown",
            "metadata": {},
            "source": "## TASK  5\n"
        },
        {
            "cell_type": "markdown",
            "metadata": {},
            "source": "Calculate the accuracy on the test data using the method <code>score</code>:\n"
        },
        {
            "cell_type": "code",
            "execution_count": 18,
            "metadata": {},
            "outputs": [],
            "source": "lr_test_score = (logreg_cv.score(x_test, y_test))"
        },
        {
            "cell_type": "markdown",
            "metadata": {},
            "source": "Lets look at the confusion matrix:\n"
        },
        {
            "cell_type": "code",
            "execution_count": 19,
            "metadata": {
                "scrolled": true
            },
            "outputs": [
                {
                    "data": {
                        "image/png": "[encoded data removed]",
                        "text/plain": "<Figure size 432x288 with 2 Axes>"
                    },
                    "metadata": {
                        "needs_background": "light"
                    },
                    "output_type": "display_data"
                }
            ],
            "source": "y_hat=logreg_cv.predict(x_test)\nplot_confusion_matrix(y_test,y_hat)"
        },
        {
            "cell_type": "markdown",
            "metadata": {},
            "source": "Predict the probability. Use the loss function LogLoss to get the error rate."
        },
        {
            "cell_type": "code",
            "execution_count": 20,
            "metadata": {},
            "outputs": [],
            "source": "yhat_proba = logreg_cv.predict_proba(x_test)\n\nlr_log_loss = (metrics.log_loss(y_test, yhat_proba))"
        },
        {
            "cell_type": "code",
            "execution_count": 21,
            "metadata": {},
            "outputs": [
                {
                    "name": "stdout",
                    "output_type": "stream",
                    "text": "Grid Score 0.8888888888888888\nLog Loss 0.3161343460615488\n"
                }
            ],
            "source": "print('Grid Score',logreg_cv.score(x_test, y_test))# Best Score: 0.88 train_split_random_state: 2\nprint('Log Loss', metrics.log_loss(y_test, yhat_proba))# Best Loss: 0.31 train_split_radom_state: 2"
        },
        {
            "cell_type": "markdown",
            "metadata": {},
            "source": "Examining the confusion matrix, we see that logistic regression can distinguish between the different classes.  We see that the major problem is false positives.\n"
        },
        {
            "cell_type": "markdown",
            "metadata": {},
            "source": "## TASK  6\n"
        },
        {
            "cell_type": "markdown",
            "metadata": {},
            "source": "Create a support vector machine object then  create a  <code>GridSearchCV</code> object  <code>svm_cv</code> with cv - 10.  Fit the object to find the best parameters from the dictionary <code>parameters</code>. Additionally Let's the parameter <code>probability</code> to true.\n"
        },
        {
            "cell_type": "code",
            "execution_count": 470,
            "metadata": {},
            "outputs": [],
            "source": "parameters2 = {'kernel':('rbf','linear','poly','sigmoid'),\n              'C': np.logspace(-3, 3, 5),\n              'gamma':np.logspace(-3, 3, 5)}\nsvm = SVC(probability=True, random_state=2) # random_state: 2 train_test_split_random_state: 2"
        },
        {
            "cell_type": "code",
            "execution_count": 471,
            "metadata": {},
            "outputs": [
                {
                    "data": {
                        "text/plain": "GridSearchCV(cv=10, estimator=SVC(probability=True, random_state=2),\n             param_grid={'C': array([1.00000000e-03, 3.16227766e-02, 1.00000000e+00, 3.16227766e+01,\n       1.00000000e+03]),\n                         'gamma': array([1.00000000e-03, 3.16227766e-02, 1.00000000e+00, 3.16227766e+01,\n       1.00000000e+03]),\n                         'kernel': ('rbf', 'linear', 'poly', 'sigmoid')})"
                    },
                    "execution_count": 471,
                    "metadata": {},
                    "output_type": "execute_result"
                }
            ],
            "source": "svm_cv = GridSearchCV(svm, parameters2, cv=10)\nsvm_cv.fit(x_train, y_train)"
        },
        {
            "cell_type": "code",
            "execution_count": 472,
            "metadata": {},
            "outputs": [
                {
                    "name": "stdout",
                    "output_type": "stream",
                    "text": "tuned hpyerparameters :(best parameters)  {'C': 1.0, 'gamma': 0.03162277660168379, 'kernel': 'sigmoid'}\naccuracy : 0.8872727272727273\nbest estimator: SVC(gamma=0.03162277660168379, kernel='sigmoid', probability=True,\n    random_state=2)\n"
                }
            ],
            "source": "print(\"tuned hpyerparameters :(best parameters) \",svm_cv.best_params_)\nprint(\"accuracy :\",svm_cv.best_score_)\nprint(\"best estimator:\", svm_cv.best_estimator_)"
        },
        {
            "cell_type": "markdown",
            "metadata": {},
            "source": "## TASK  7\n"
        },
        {
            "cell_type": "markdown",
            "metadata": {},
            "source": "Calculate the accuracy on the test data using the method <code>score</code>:\n"
        },
        {
            "cell_type": "code",
            "execution_count": 473,
            "metadata": {},
            "outputs": [],
            "source": "svm_test_score = (svm_cv.score(x_test, y_test))"
        },
        {
            "cell_type": "markdown",
            "metadata": {},
            "source": "We can plot the confusion matrix\n"
        },
        {
            "cell_type": "code",
            "execution_count": 474,
            "metadata": {},
            "outputs": [
                {
                    "data": {
                        "image/png": "[encoded data removed]",
                        "text/plain": "<Figure size 432x288 with 2 Axes>"
                    },
                    "metadata": {
                        "needs_background": "light"
                    },
                    "output_type": "display_data"
                }
            ],
            "source": "y_hat2 = svm_cv.predict(x_test)\nplot_confusion_matrix(y_test,y_hat2)"
        },
        {
            "cell_type": "markdown",
            "metadata": {},
            "source": "Predict the probability. Use the loss function LogLoss to get the error rate."
        },
        {
            "cell_type": "code",
            "execution_count": 475,
            "metadata": {},
            "outputs": [],
            "source": "yhat_proba2 = svm_cv.predict_proba(x_test)\n\nsvm_log_loss = (metrics.log_loss(y_test, yhat_proba2))"
        },
        {
            "cell_type": "code",
            "execution_count": 476,
            "metadata": {},
            "outputs": [
                {
                    "name": "stdout",
                    "output_type": "stream",
                    "text": "Grid Score 0.8888888888888888\nLog Loss 0.2983822113603431\n"
                }
            ],
            "source": "print('Grid Score',svm_cv.score(x_test, y_test))# Best Score: 0.88 train_split_random_state: 2\nprint('Log Loss', metrics.log_loss(y_test, yhat_proba2))# Best Loss: 0.30 train_split_radom_state: 2"
        },
        {
            "cell_type": "markdown",
            "metadata": {},
            "source": "## TASK  8\n"
        },
        {
            "cell_type": "markdown",
            "metadata": {},
            "source": "Create a decision tree classifier object then  create a  <code>GridSearchCV</code> object  <code>tree_cv</code> with cv = 10.  Fit the object to find the best parameters from the dictionary <code>parameters</code>.\n"
        },
        {
            "cell_type": "code",
            "execution_count": 477,
            "metadata": {},
            "outputs": [],
            "source": "parameters3 = {'criterion': ['gini'],\n     'splitter': ['best', 'random'],\n     'max_depth': [2*n for n in np.arange(1,10)],\n     'max_features': ['auto', 'sqrt', 'log2'],\n     'min_samples_leaf': [1,2,4],\n     'min_samples_split': [2,5,10]}\n\nd_tree = DecisionTreeClassifier(random_state=6) #random_state: 6 with train_split_random_state: 2 is optimal for this model. #random_state: 6 with train_test_split_random_state: 2 is good overall."
        },
        {
            "cell_type": "code",
            "execution_count": 478,
            "metadata": {},
            "outputs": [
                {
                    "data": {
                        "text/plain": "GridSearchCV(cv=10, estimator=DecisionTreeClassifier(random_state=6),\n             param_grid={'criterion': ['gini'],\n                         'max_depth': [2, 4, 6, 8, 10, 12, 14, 16, 18],\n                         'max_features': ['auto', 'sqrt', 'log2'],\n                         'min_samples_leaf': [1, 2, 4],\n                         'min_samples_split': [2, 5, 10],\n                         'splitter': ['best', 'random']})"
                    },
                    "execution_count": 478,
                    "metadata": {},
                    "output_type": "execute_result"
                }
            ],
            "source": "tree_cv = GridSearchCV(d_tree, parameters3, cv=10)\n\ntree_cv.fit(x_train, y_train)"
        },
        {
            "cell_type": "code",
            "execution_count": 479,
            "metadata": {
                "scrolled": false
            },
            "outputs": [
                {
                    "name": "stdout",
                    "output_type": "stream",
                    "text": "Tuned hpyerparameters :(best parameters)  {'criterion': 'gini', 'max_depth': 4, 'max_features': 'auto', 'min_samples_leaf': 1, 'min_samples_split': 2, 'splitter': 'random'}\nAccuracy : 0.9045454545454547\nbest Estimator DecisionTreeClassifier(max_depth=4, max_features='auto', random_state=6,\n                       splitter='random')\n"
                }
            ],
            "source": "print(\"Tuned hpyerparameters :(best parameters) \",tree_cv.best_params_)\nprint(\"Accuracy :\",tree_cv.best_score_)\nprint(\"best Estimator\", tree_cv.best_estimator_)"
        },
        {
            "cell_type": "markdown",
            "metadata": {},
            "source": "## TASK  9\n"
        },
        {
            "cell_type": "markdown",
            "metadata": {},
            "source": "Calculate the accuracy of tree_cv on the test data using the method <code>score</code>:\n"
        },
        {
            "cell_type": "code",
            "execution_count": 480,
            "metadata": {},
            "outputs": [],
            "source": "tree_test_score = (tree_cv.score(x_test, y_test))"
        },
        {
            "cell_type": "markdown",
            "metadata": {},
            "source": "We can plot the confusion matrix\n"
        },
        {
            "cell_type": "code",
            "execution_count": 481,
            "metadata": {
                "scrolled": true
            },
            "outputs": [
                {
                    "data": {
                        "image/png": "[encoded data removed]",
                        "text/plain": "<Figure size 432x288 with 2 Axes>"
                    },
                    "metadata": {
                        "needs_background": "light"
                    },
                    "output_type": "display_data"
                }
            ],
            "source": "y_hat3 = tree_cv.predict(x_test)\nplot_confusion_matrix(y_test,y_hat3)"
        },
        {
            "cell_type": "markdown",
            "metadata": {},
            "source": "Predict the probability. Use the loss function LogLoss to get the error rate."
        },
        {
            "cell_type": "code",
            "execution_count": 482,
            "metadata": {},
            "outputs": [],
            "source": "yhat_proba3 = tree_cv.predict_proba(x_test)\n\ntree_log_loss = (metrics.log_loss(y_test, yhat_proba3))"
        },
        {
            "cell_type": "code",
            "execution_count": 483,
            "metadata": {},
            "outputs": [
                {
                    "name": "stdout",
                    "output_type": "stream",
                    "text": "Grid Score 0.8888888888888888\nLog Loss 0.32957816538703616\n"
                }
            ],
            "source": "print('Grid Score',tree_cv.score(x_test, y_test))# Best Score: 0.88  train_split_random_state: 2 model_random_state: 6\nprint('Log Loss', metrics.log_loss(y_test, yhat_proba3))# Best Loss: 0.32 train_split_radom_state: 2 model_random_state: 6"
        },
        {
            "cell_type": "markdown",
            "metadata": {},
            "source": "## TASK  10\n"
        },
        {
            "cell_type": "markdown",
            "metadata": {},
            "source": "Create a k nearest neighbors object then  create a  <code>GridSearchCV</code> object  <code>knn_cv</code> with cv = 10.  Fit the object to find the best parameters from the dictionary <code>parameters</code>.\n"
        },
        {
            "cell_type": "code",
            "execution_count": 484,
            "metadata": {},
            "outputs": [],
            "source": "parameters4 = {'n_neighbors': [12], # k: 12 with train_test_split_random_state: 2 is optimal overall for this model  # k: 12 with train_test_split_random_state: 2 is good overall for this model \n              'algorithm': ['auto', 'ball_tree', 'kd_tree', 'brute'],\n              'p': [1,2]}\n\nKNN = KNeighborsClassifier()"
        },
        {
            "cell_type": "code",
            "execution_count": 485,
            "metadata": {},
            "outputs": [
                {
                    "data": {
                        "text/plain": "GridSearchCV(cv=10, estimator=KNeighborsClassifier(),\n             param_grid={'algorithm': ['auto', 'ball_tree', 'kd_tree', 'brute'],\n                         'n_neighbors': [12], 'p': [1, 2]})"
                    },
                    "execution_count": 485,
                    "metadata": {},
                    "output_type": "execute_result"
                }
            ],
            "source": "knn_cv = GridSearchCV(KNN, parameters4, cv=10)\n\nknn_cv.fit(x_train, y_train)"
        },
        {
            "cell_type": "code",
            "execution_count": 486,
            "metadata": {
                "scrolled": true
            },
            "outputs": [
                {
                    "name": "stdout",
                    "output_type": "stream",
                    "text": "tuned hpyerparameters :(best parameters)  {'algorithm': 'auto', 'n_neighbors': 12, 'p': 1}\naccuracy : 0.8490909090909092\nbest estimator: KNeighborsClassifier(n_neighbors=12, p=1)\n"
                }
            ],
            "source": "print(\"tuned hpyerparameters :(best parameters) \",knn_cv.best_params_)\nprint(\"accuracy :\",knn_cv.best_score_)\nprint(\"best estimator:\", knn_cv.best_estimator_)"
        },
        {
            "cell_type": "markdown",
            "metadata": {},
            "source": "## TASK  11\n"
        },
        {
            "cell_type": "markdown",
            "metadata": {},
            "source": "Calculate the accuracy of tree_cv on the test data using the method <code>score</code>:\n"
        },
        {
            "cell_type": "code",
            "execution_count": 487,
            "metadata": {},
            "outputs": [],
            "source": "knn_test_score = (knn_cv.score(x_test, y_test))"
        },
        {
            "cell_type": "markdown",
            "metadata": {},
            "source": "We can plot the confusion matrix\n"
        },
        {
            "cell_type": "code",
            "execution_count": 488,
            "metadata": {},
            "outputs": [
                {
                    "data": {
                        "image/png": "[encoded data removed]",
                        "text/plain": "<Figure size 432x288 with 2 Axes>"
                    },
                    "metadata": {
                        "needs_background": "light"
                    },
                    "output_type": "display_data"
                }
            ],
            "source": "y_hat4 = knn_cv.predict(x_test)\nplot_confusion_matrix(y_test,y_hat4)"
        },
        {
            "cell_type": "markdown",
            "metadata": {},
            "source": "Predict the probability. use the loss function LogLoss to get the error rate."
        },
        {
            "cell_type": "code",
            "execution_count": 489,
            "metadata": {},
            "outputs": [],
            "source": "yhat_proba4 = knn_cv.predict_proba(x_test)\n\nknn_log_loss = (metrics.log_loss(y_test, yhat_proba4))"
        },
        {
            "cell_type": "code",
            "execution_count": 490,
            "metadata": {},
            "outputs": [
                {
                    "name": "stdout",
                    "output_type": "stream",
                    "text": "Grid Score 0.8888888888888888\nLog Loss 0.3006773249472405\n"
                }
            ],
            "source": "print('Grid Score',knn_cv.score(x_test, y_test))# Best Score: 0.88 k: 12 train_split_random_state: 2\nprint('Log Loss', metrics.log_loss(y_test, yhat_proba4))# Best Loss: 0.30 k: 12 train_split_radom_state: 2"
        },
        {
            "cell_type": "markdown",
            "metadata": {},
            "source": "## TASK  12\n"
        },
        {
            "cell_type": "markdown",
            "metadata": {},
            "source": "Find the method performs best:\n"
        },
        {
            "cell_type": "markdown",
            "metadata": {},
            "source": "I chose two compare different aproaches to find the best classification model: \n\n1st - I built a 'cross_val_function' using 'cross_val_score' from sklearn to retrieve the mean accuracy score and the std without any tuned hyperparemeters. Once done buiding the function, I test it on full dataset, on train set, test set. I printed the results as a dataframe.\n\n2nd - I retrivied the actual score for the test set, and log loss for all four models with their respectives hyperparameters selected."
        },
        {
            "cell_type": "code",
            "execution_count": 496,
            "metadata": {
                "scrolled": true
            },
            "outputs": [],
            "source": "def cross_val_function(x, y, n_split):\n    \n    global df\n    \n    from sklearn.linear_model import LogisticRegression\n    from sklearn.svm import SVC\n    from sklearn.tree import DecisionTreeClassifier\n    from sklearn.neighbors import KNeighborsClassifier\n    from sklearn.model_selection import KFold, cross_val_score\n    \n    \n    models = []\n    models.append(('LR', LogisticRegression(C=0.1)))\n    models.append(('SVM', SVC(gamma=0.03162277660168379, kernel='sigmoid', probability=True, random_state=2)))\n    models.append(('TREE', DecisionTreeClassifier(max_depth=4, max_features='auto', random_state=6, splitter='random')))\n    models.append(('KNN', KNeighborsClassifier(n_neighbors=12, p=1)))\n    \n\n    main_list = []\n    \n    for name, model in models:\n        \n        sub_list = []\n       \n        kfold = KFold(n_splits=int(n_split))\n        cv_results = cross_val_score(model, x, y, cv=kfold, scoring='accuracy')\n        sub_list.append(name)\n        sub_list.append(cv_results.mean().round(decimals=2))\n        sub_list.append(cv_results.std().round(decimals=2))\n        \n        main_list.append(sub_list)\n        \n     \n    df = pd.DataFrame(main_list)\n    \n    df.columns = ['model', 'cv_score', 'cv_std']\n    \n    return(df)"
        },
        {
            "cell_type": "markdown",
            "metadata": {},
            "source": "Call the cross_val_function to view the accuracy scores and standard deviation of the scores for each model.  "
        },
        {
            "cell_type": "code",
            "execution_count": 497,
            "metadata": {
                "scrolled": false
            },
            "outputs": [
                {
                    "data": {
                        "text/html": "<div>\n<style scoped>\n    .dataframe tbody tr th:only-of-type {\n        vertical-align: middle;\n    }\n\n    .dataframe tbody tr th {\n        vertical-align: top;\n    }\n\n    .dataframe thead th {\n        text-align: right;\n    }\n</style>\n<table border=\"1\" class=\"dataframe\">\n  <thead>\n    <tr style=\"text-align: right;\">\n      <th></th>\n      <th>model</th>\n      <th>cv_score</th>\n      <th>cv_std</th>\n    </tr>\n  </thead>\n  <tbody>\n    <tr>\n      <th>0</th>\n      <td>LR</td>\n      <td>0.86</td>\n      <td>0.11</td>\n    </tr>\n    <tr>\n      <th>1</th>\n      <td>SVM</td>\n      <td>0.88</td>\n      <td>0.09</td>\n    </tr>\n    <tr>\n      <th>2</th>\n      <td>TREE</td>\n      <td>0.90</td>\n      <td>0.09</td>\n    </tr>\n    <tr>\n      <th>3</th>\n      <td>KNN</td>\n      <td>0.86</td>\n      <td>0.10</td>\n    </tr>\n  </tbody>\n</table>\n</div>",
                        "text/plain": "  model  cv_score  cv_std\n0    LR      0.86    0.11\n1   SVM      0.88    0.09\n2  TREE      0.90    0.09\n3   KNN      0.86    0.10"
                    },
                    "execution_count": 497,
                    "metadata": {},
                    "output_type": "execute_result"
                }
            ],
            "source": "cross_val_function(x_train,y_train,10)"
        },
        {
            "cell_type": "markdown",
            "metadata": {},
            "source": "The following lines of code are the actual results of the GridSearchCV score and Log Loss for the probability prediction:"
        },
        {
            "cell_type": "code",
            "execution_count": 498,
            "metadata": {},
            "outputs": [],
            "source": "lr_list = ['LR']\nsvm_list = ['SVM']\ntree_list = ['TREE']\nknn_list = ['KNN']\nmetod_list = []\n\nlr_list.append(lr_test_score)\nlr_list.append(lr_log_loss)\n\nsvm_list.append(svm_test_score)\nsvm_list.append(svm_log_loss)\n\ntree_list.append(tree_test_score)\ntree_list.append(tree_log_loss)\n\nknn_list.append(knn_test_score)\nknn_list.append(knn_log_loss)\n\nmetod_list.append(lr_list)\nmetod_list.append(svm_list)\nmetod_list.append(tree_list)\nmetod_list.append(knn_list)"
        },
        {
            "cell_type": "markdown",
            "metadata": {},
            "source": "View the GridSearch Score and the LogLoss rate for each model."
        },
        {
            "cell_type": "code",
            "execution_count": 499,
            "metadata": {
                "scrolled": false
            },
            "outputs": [
                {
                    "data": {
                        "text/html": "<div>\n<style scoped>\n    .dataframe tbody tr th:only-of-type {\n        vertical-align: middle;\n    }\n\n    .dataframe tbody tr th {\n        vertical-align: top;\n    }\n\n    .dataframe thead th {\n        text-align: right;\n    }\n</style>\n<table border=\"1\" class=\"dataframe\">\n  <thead>\n    <tr style=\"text-align: right;\">\n      <th></th>\n      <th>Model</th>\n      <th>test_score</th>\n      <th>log_loss</th>\n    </tr>\n  </thead>\n  <tbody>\n    <tr>\n      <th>0</th>\n      <td>LR</td>\n      <td>0.89</td>\n      <td>0.32</td>\n    </tr>\n    <tr>\n      <th>1</th>\n      <td>SVM</td>\n      <td>0.89</td>\n      <td>0.30</td>\n    </tr>\n    <tr>\n      <th>2</th>\n      <td>TREE</td>\n      <td>0.89</td>\n      <td>0.33</td>\n    </tr>\n    <tr>\n      <th>3</th>\n      <td>KNN</td>\n      <td>0.89</td>\n      <td>0.30</td>\n    </tr>\n  </tbody>\n</table>\n</div>",
                        "text/plain": "  Model  test_score  log_loss\n0    LR        0.89      0.32\n1   SVM        0.89      0.30\n2  TREE        0.89      0.33\n3   KNN        0.89      0.30"
                    },
                    "execution_count": 499,
                    "metadata": {},
                    "output_type": "execute_result"
                }
            ],
            "source": "metod_df = pd.DataFrame(metod_list).round(decimals=2)\nmetod_df.columns = ['Model', 'test_score', 'log_loss']\nmetod_df"
        },
        {
            "cell_type": "markdown",
            "metadata": {},
            "source": "Plot the GridSearchCV and LogLoss results using matplotlib."
        },
        {
            "cell_type": "code",
            "execution_count": 500,
            "metadata": {
                "scrolled": false
            },
            "outputs": [
                {
                    "data": {
                        "image/png": "[encoded data removed]",
                        "text/plain": "<Figure size 864x504 with 1 Axes>"
                    },
                    "metadata": {
                        "needs_background": "light"
                    },
                    "output_type": "display_data"
                }
            ],
            "source": "labels =  metod_df.drop(['Model'], axis=1).columns.tolist()\nlr_bar = metod_df.iloc[0,1:].tolist()\nsvm_bar = metod_df.iloc[1,1:].tolist()\ntree_bar = metod_df.iloc[2,1:].tolist()\nknn_bar = metod_df.iloc[3,1:].tolist()\n\nlabel_loc = np.arange(len(labels))\nwidth = .10\n\nxtick_loc = np.arange(len(labels))\n\nfig, ax = plt.subplots(figsize=(12,7))\nlr_label = ax.bar(label_loc - 2*width +.05, lr_bar, width, label='LR', color='mediumblue')\nsvm_label = ax.bar(label_loc - width +.05, svm_bar, width, label='SVM', color='royalblue')\ntree_label = ax.bar(label_loc +.05, tree_bar, width, label='TREE', color='darkturquoise')\nknn_label = ax.bar(label_loc + width + .05, knn_bar, width, label='KNN', color= 'cyan')\n\n\nax.set_xticks(xtick_loc)\nax.set_xticklabels(labels, rotation=90, fontsize=15)\nax.set_title('Classification Model Evaluation and Selection.')\nax.grid(b=True, color='darkgray', linestyle='-.', linewidth=.5, alpha=.8, axis='y')\nax.set_ylabel('Score', fontsize=15)\nax.set_facecolor('gainsboro')\nax.legend()\n\nlist1 = []\n\nfor i, v in metod_df.iterrows():\n    list1.append(v[1])\n    list1.append(v[2])\n    \nrects = ax.patches\n\nannot = [list1[index] for index in range(len(list1))]\n\nfor rects, annot in zip(rects, annot):\n    height = rects.get_height()\n    ax.text(rects.get_x() + rects.get_width() / 2, height, annot, ha='center', va='bottom')\n\nplt.show()"
        },
        {
            "cell_type": "markdown",
            "metadata": {},
            "source": "### Conclusion: \n\n- Overall, all models do equaly well if train_test_split random_state is set to number '2'. Nevertheless, they can individually be optimize by simultaneously changing the train_test_split and models, random_state, k_numbers, and parameters when applicable."
        },
        {
            "cell_type": "markdown",
            "metadata": {},
            "source": "## Authors\n"
        },
        {
            "cell_type": "markdown",
            "metadata": {},
            "source": "<a href=\"https://www.linkedin.com/in/joseph-s-50398b136/?utm_medium=Exinfluencer&utm_source=Exinfluencer&utm_content=000026UJ&utm_term=10006555&utm_id=NA-SkillsNetwork-Channel-SkillsNetworkCoursesIBMDS0321ENSkillsNetwork26802033-2021-01-01\">Joseph Santarcangelo</a> has a PhD in Electrical Engineering, his research focused on using machine learning, signal processing, and computer vision to determine how videos impact human cognition. Joseph has been working for IBM since he completed his PhD.\n"
        },
        {
            "cell_type": "markdown",
            "metadata": {},
            "source": "## Change Log\n"
        },
        {
            "cell_type": "markdown",
            "metadata": {},
            "source": "| Date (YYYY-MM-DD) | Version | Changed By    | Change Description      |\n| ----------------- | ------- | ------------- | ----------------------- |\n| 2021-08-31        | 1.1     | Lakshmi Holla | Modified markdown       |\n| 2020-09-20        | 1.0     | Joseph        | Modified Multiple Areas |\n"
        },
        {
            "cell_type": "markdown",
            "metadata": {},
            "source": "Copyright \u00a9 2020 IBM Corporation. All rights reserved.\n"
        }
    ],
    "metadata": {
        "celltoolbar": "Raw Cell Format",
        "kernelspec": {
            "display_name": "Python 3.8",
            "language": "python",
            "name": "python3"
        },
        "language_info": {
            "codemirror_mode": {
                "name": "ipython",
                "version": 3
            },
            "file_extension": ".py",
            "mimetype": "text/x-python",
            "name": "python",
            "nbconvert_exporter": "python",
            "pygments_lexer": "ipython3",
            "version": "3.8.12"
        }
    },
    "nbformat": 4,
    "nbformat_minor": 4
}