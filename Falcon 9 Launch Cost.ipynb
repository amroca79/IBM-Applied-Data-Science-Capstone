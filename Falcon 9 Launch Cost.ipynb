{
    "cells": [
        {
            "cell_type": "markdown",
            "metadata": {
                "collapsed": true
            },
            "source": "### Determine the cost for SpaceX Falcon 9's each launch.  \n\n - We will achieve this goal by using the data collected to predict whether SpaceX will attempt to land a rocket or not.\n\n#### Tasks:\n\n- Gather information about Space X and create dashboards for my team.\n- Use machine learning, and public information to dertemine if SpaceX should re-use the 1st stage.\n\n\n#### Tools:\n\n- Use Spacex Rest API endpoints api.spacexdata.com/v4/capsules, api.spacexdata.com/v4/cores, api.spacexdata.com/v4/launches/past:\n\n- Use Python Beautiful Soup to scrape Wiki pages with SpaceX launch information"
        },
        {
            "cell_type": "code",
            "execution_count": null,
            "metadata": {},
            "outputs": [],
            "source": ""
        }
    ],
    "metadata": {
        "kernelspec": {
            "display_name": "Python 3.8",
            "language": "python",
            "name": "python3"
        },
        "language_info": {
            "codemirror_mode": {
                "name": "ipython",
                "version": 3
            },
            "file_extension": ".py",
            "mimetype": "text/x-python",
            "name": "python",
            "nbconvert_exporter": "python",
            "pygments_lexer": "ipython3",
            "version": "3.8.12"
        }
    },
    "nbformat": 4,
    "nbformat_minor": 1
}