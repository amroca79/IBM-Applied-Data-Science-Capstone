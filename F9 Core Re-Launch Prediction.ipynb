{
    "cells": [
        {
            "cell_type": "code",
            "execution_count": 633,
            "metadata": {},
            "outputs": [],
            "source": "# The code was removed by Watson Studio for sharing."
        },
        {
            "cell_type": "markdown",
            "metadata": {},
            "source": "#  Falcon 9 First Stage Re-Launch Prediction."
        },
        {
            "cell_type": "markdown",
            "metadata": {},
            "source": "Import Libraries."
        },
        {
            "cell_type": "code",
            "execution_count": 634,
            "metadata": {},
            "outputs": [],
            "source": "import pandas as pd \nimport numpy as np\nimport seaborn as sns\nimport matplotlib.pyplot as plt\nfrom sklearn import preprocessing\nfrom sklearn.model_selection import train_test_split, GridSearchCV, KFold, cross_val_score\nfrom sklearn.linear_model import LogisticRegression\nfrom sklearn.svm import SVC\nfrom sklearn.tree import DecisionTreeClassifier\nfrom sklearn.neighbors import KNeighborsClassifier\nfrom sklearn import metrics"
        },
        {
            "cell_type": "markdown",
            "metadata": {},
            "source": "Function for confusion matrix plotting."
        },
        {
            "cell_type": "code",
            "execution_count": 635,
            "metadata": {},
            "outputs": [],
            "source": "def plot_confusion_matrix(y,y_predict):\n    \"this function plots the confusion matrix\"\n    from sklearn.metrics import confusion_matrix\n\n    cm = confusion_matrix(y, y_predict)\n    ax= plt.subplot()\n    sns.heatmap(cm, annot=True, ax = ax); #annot=True to annotate cells\n    ax.set_xlabel('Predicted labels')\n    ax.set_ylabel('True labels')\n    ax.set_title('Confusion Matrix'); \n    ax.xaxis.set_ticklabels(['not re-used', 're-used']); ax.yaxis.set_ticklabels(['not re-used', 're-used'])"
        },
        {
            "cell_type": "markdown",
            "metadata": {},
            "source": "Import csv file"
        },
        {
            "cell_type": "code",
            "execution_count": 636,
            "metadata": {},
            "outputs": [
                {
                    "name": "stdout",
                    "output_type": "stream",
                    "text": "(133, 22)\n"
                },
                {
                    "data": {
                        "text/html": "<div>\n<style scoped>\n    .dataframe tbody tr th:only-of-type {\n        vertical-align: middle;\n    }\n\n    .dataframe tbody tr th {\n        vertical-align: top;\n    }\n\n    .dataframe thead th {\n        text-align: right;\n    }\n</style>\n<table border=\"1\" class=\"dataframe\">\n  <thead>\n    <tr style=\"text-align: right;\">\n      <th></th>\n      <th>FlightNumber</th>\n      <th>Date</th>\n      <th>BoosterVersion</th>\n      <th>PayloadMass</th>\n      <th>Orbit</th>\n      <th>PayloadName</th>\n      <th>Customer</th>\n      <th>Outcome</th>\n      <th>Flights</th>\n      <th>GridFins</th>\n      <th>...</th>\n      <th>LandingPad</th>\n      <th>Block</th>\n      <th>Serial</th>\n      <th>Status</th>\n      <th>ReusedCount</th>\n      <th>LaunchSite</th>\n      <th>Longitude</th>\n      <th>Latitude</th>\n      <th>Block_Version</th>\n      <th>Class</th>\n    </tr>\n  </thead>\n  <tbody>\n    <tr>\n      <th>0</th>\n      <td>1</td>\n      <td>2010-06-04</td>\n      <td>Falcon 9</td>\n      <td>7457.0</td>\n      <td>LEO</td>\n      <td>Dragon Qualification Unit</td>\n      <td>SpaceX</td>\n      <td>None None</td>\n      <td>1</td>\n      <td>False</td>\n      <td>...</td>\n      <td>NaN</td>\n      <td>1.0</td>\n      <td>B0003</td>\n      <td>expended</td>\n      <td>0</td>\n      <td>CCSFS SLC 40</td>\n      <td>-80.577366</td>\n      <td>28.561857</td>\n      <td>v1.0</td>\n      <td>0</td>\n    </tr>\n    <tr>\n      <th>1</th>\n      <td>2</td>\n      <td>2012-05-22</td>\n      <td>Falcon 9</td>\n      <td>525.0</td>\n      <td>LEO</td>\n      <td>COTS Demo Flight 2</td>\n      <td>NASA(COTS)</td>\n      <td>None None</td>\n      <td>1</td>\n      <td>False</td>\n      <td>...</td>\n      <td>NaN</td>\n      <td>1.0</td>\n      <td>B0005</td>\n      <td>lost</td>\n      <td>0</td>\n      <td>CCSFS SLC 40</td>\n      <td>-80.577366</td>\n      <td>28.561857</td>\n      <td>v1.0</td>\n      <td>0</td>\n    </tr>\n    <tr>\n      <th>2</th>\n      <td>3</td>\n      <td>2013-03-01</td>\n      <td>Falcon 9</td>\n      <td>677.0</td>\n      <td>ISS</td>\n      <td>CRS-2</td>\n      <td>NASA (CRS)</td>\n      <td>None None</td>\n      <td>1</td>\n      <td>False</td>\n      <td>...</td>\n      <td>NaN</td>\n      <td>1.0</td>\n      <td>B0007</td>\n      <td>lost</td>\n      <td>0</td>\n      <td>CCSFS SLC 40</td>\n      <td>-80.577366</td>\n      <td>28.561857</td>\n      <td>v1.0</td>\n      <td>0</td>\n    </tr>\n    <tr>\n      <th>3</th>\n      <td>4</td>\n      <td>2013-09-29</td>\n      <td>Falcon 9</td>\n      <td>500.0</td>\n      <td>PO</td>\n      <td>CASSIOPE</td>\n      <td>MDA</td>\n      <td>False Ocean</td>\n      <td>1</td>\n      <td>False</td>\n      <td>...</td>\n      <td>NaN</td>\n      <td>1.0</td>\n      <td>B1003</td>\n      <td>lost</td>\n      <td>0</td>\n      <td>VAFB SLC 4E</td>\n      <td>-120.610829</td>\n      <td>34.632093</td>\n      <td>v1.0</td>\n      <td>0</td>\n    </tr>\n    <tr>\n      <th>4</th>\n      <td>5</td>\n      <td>2013-12-03</td>\n      <td>Falcon 9</td>\n      <td>3170.0</td>\n      <td>GTO</td>\n      <td>SES-8</td>\n      <td>SES</td>\n      <td>None None</td>\n      <td>1</td>\n      <td>False</td>\n      <td>...</td>\n      <td>NaN</td>\n      <td>1.0</td>\n      <td>B1004</td>\n      <td>lost</td>\n      <td>0</td>\n      <td>CCSFS SLC 40</td>\n      <td>-80.577366</td>\n      <td>28.561857</td>\n      <td>v1.0</td>\n      <td>0</td>\n    </tr>\n  </tbody>\n</table>\n<p>5 rows \u00d7 22 columns</p>\n</div>",
                        "text/plain": "   FlightNumber        Date BoosterVersion  PayloadMass Orbit  \\\n0             1  2010-06-04       Falcon 9       7457.0   LEO   \n1             2  2012-05-22       Falcon 9        525.0   LEO   \n2             3  2013-03-01       Falcon 9        677.0   ISS   \n3             4  2013-09-29       Falcon 9        500.0    PO   \n4             5  2013-12-03       Falcon 9       3170.0   GTO   \n\n                 PayloadName    Customer      Outcome  Flights  GridFins  ...  \\\n0  Dragon Qualification Unit      SpaceX    None None        1     False  ...   \n1         COTS Demo Flight 2  NASA(COTS)    None None        1     False  ...   \n2                      CRS-2  NASA (CRS)    None None        1     False  ...   \n3                   CASSIOPE         MDA  False Ocean        1     False  ...   \n4                      SES-8         SES    None None        1     False  ...   \n\n   LandingPad  Block Serial    Status ReusedCount    LaunchSite   Longitude  \\\n0         NaN    1.0  B0003  expended           0  CCSFS SLC 40  -80.577366   \n1         NaN    1.0  B0005      lost           0  CCSFS SLC 40  -80.577366   \n2         NaN    1.0  B0007      lost           0  CCSFS SLC 40  -80.577366   \n3         NaN    1.0  B1003      lost           0   VAFB SLC 4E -120.610829   \n4         NaN    1.0  B1004      lost           0  CCSFS SLC 40  -80.577366   \n\n    Latitude  Block_Version  Class  \n0  28.561857           v1.0      0  \n1  28.561857           v1.0      0  \n2  28.561857           v1.0      0  \n3  34.632093           v1.0      0  \n4  28.561857           v1.0      0  \n\n[5 rows x 22 columns]"
                    },
                    "execution_count": 636,
                    "metadata": {},
                    "output_type": "execute_result"
                }
            ],
            "source": "df = pd.read_csv(project.get_file('data_wrangling.csv'))\nprint(df.shape)\ndf.head()"
        },
        {
            "cell_type": "markdown",
            "metadata": {},
            "source": "## Data Analysis."
        },
        {
            "cell_type": "markdown",
            "metadata": {},
            "source": "Count of sucessfull/failed landing ratio."
        },
        {
            "cell_type": "code",
            "execution_count": 637,
            "metadata": {},
            "outputs": [
                {
                    "data": {
                        "text/plain": "1    102\n0     31\nName: Class, dtype: int64"
                    },
                    "execution_count": 637,
                    "metadata": {},
                    "output_type": "execute_result"
                }
            ],
            "source": "df['Class'].value_counts()"
        },
        {
            "cell_type": "markdown",
            "metadata": {},
            "source": "The percentage of flights in which the first stage booster was reused."
        },
        {
            "cell_type": "code",
            "execution_count": 638,
            "metadata": {},
            "outputs": [
                {
                    "data": {
                        "text/plain": "True     0.56391\nFalse    0.43609\nName: Reused, dtype: float64"
                    },
                    "execution_count": 638,
                    "metadata": {},
                    "output_type": "execute_result"
                }
            ],
            "source": "df['Reused'].value_counts(normalize=True)"
        },
        {
            "cell_type": "markdown",
            "metadata": {},
            "source": "Block Version, Boosters serials, current status, and count of flights for each booster."
        },
        {
            "cell_type": "code",
            "execution_count": 639,
            "metadata": {},
            "outputs": [
                {
                    "data": {
                        "text/html": "<div>\n<style scoped>\n    .dataframe tbody tr th:only-of-type {\n        vertical-align: middle;\n    }\n\n    .dataframe tbody tr th {\n        vertical-align: top;\n    }\n\n    .dataframe thead th {\n        text-align: right;\n    }\n</style>\n<table border=\"1\" class=\"dataframe\">\n  <thead>\n    <tr style=\"text-align: right;\">\n      <th></th>\n      <th>Block</th>\n      <th>Serial</th>\n      <th>Status</th>\n      <th>Count</th>\n    </tr>\n  </thead>\n  <tbody>\n    <tr>\n      <th>44</th>\n      <td>5.0</td>\n      <td>B1049</td>\n      <td>active</td>\n      <td>10</td>\n    </tr>\n    <tr>\n      <th>46</th>\n      <td>5.0</td>\n      <td>B1051</td>\n      <td>active</td>\n      <td>10</td>\n    </tr>\n    <tr>\n      <th>49</th>\n      <td>5.0</td>\n      <td>B1056</td>\n      <td>lost</td>\n      <td>4</td>\n    </tr>\n    <tr>\n      <th>50</th>\n      <td>5.0</td>\n      <td>B1058</td>\n      <td>active</td>\n      <td>10</td>\n    </tr>\n    <tr>\n      <th>51</th>\n      <td>5.0</td>\n      <td>B1059</td>\n      <td>lost</td>\n      <td>6</td>\n    </tr>\n    <tr>\n      <th>52</th>\n      <td>5.0</td>\n      <td>B1060</td>\n      <td>active</td>\n      <td>10</td>\n    </tr>\n    <tr>\n      <th>53</th>\n      <td>5.0</td>\n      <td>B1061</td>\n      <td>active</td>\n      <td>6</td>\n    </tr>\n    <tr>\n      <th>54</th>\n      <td>5.0</td>\n      <td>B1062</td>\n      <td>active</td>\n      <td>4</td>\n    </tr>\n    <tr>\n      <th>55</th>\n      <td>5.0</td>\n      <td>B1063</td>\n      <td>active</td>\n      <td>3</td>\n    </tr>\n    <tr>\n      <th>56</th>\n      <td>5.0</td>\n      <td>B1067</td>\n      <td>active</td>\n      <td>3</td>\n    </tr>\n  </tbody>\n</table>\n</div>",
                        "text/plain": "    Block Serial  Status  Count\n44    5.0  B1049  active     10\n46    5.0  B1051  active     10\n49    5.0  B1056    lost      4\n50    5.0  B1058  active     10\n51    5.0  B1059    lost      6\n52    5.0  B1060  active     10\n53    5.0  B1061  active      6\n54    5.0  B1062  active      4\n55    5.0  B1063  active      3\n56    5.0  B1067  active      3"
                    },
                    "execution_count": 639,
                    "metadata": {},
                    "output_type": "execute_result"
                }
            ],
            "source": "count_launch = df.groupby(['Block','Serial','Status'])['Flights'].count().reset_index(name='Count')\nreused_count = count_launch[count_launch['Count'] >= 2]\nreused_count.tail(10)"
        },
        {
            "cell_type": "markdown",
            "metadata": {},
            "source": "All currently active booster and the count of flights."
        },
        {
            "cell_type": "code",
            "execution_count": 640,
            "metadata": {
                "scrolled": true
            },
            "outputs": [
                {
                    "data": {
                        "text/html": "<div>\n<style scoped>\n    .dataframe tbody tr th:only-of-type {\n        vertical-align: middle;\n    }\n\n    .dataframe tbody tr th {\n        vertical-align: top;\n    }\n\n    .dataframe thead th {\n        text-align: right;\n    }\n</style>\n<table border=\"1\" class=\"dataframe\">\n  <thead>\n    <tr style=\"text-align: right;\">\n      <th></th>\n      <th>Block</th>\n      <th>Serial</th>\n      <th>Status</th>\n      <th>Count</th>\n    </tr>\n  </thead>\n  <tbody>\n    <tr>\n      <th>44</th>\n      <td>5.0</td>\n      <td>B1049</td>\n      <td>active</td>\n      <td>10</td>\n    </tr>\n    <tr>\n      <th>46</th>\n      <td>5.0</td>\n      <td>B1051</td>\n      <td>active</td>\n      <td>10</td>\n    </tr>\n    <tr>\n      <th>47</th>\n      <td>5.0</td>\n      <td>B1052</td>\n      <td>active</td>\n      <td>1</td>\n    </tr>\n    <tr>\n      <th>50</th>\n      <td>5.0</td>\n      <td>B1058</td>\n      <td>active</td>\n      <td>10</td>\n    </tr>\n    <tr>\n      <th>52</th>\n      <td>5.0</td>\n      <td>B1060</td>\n      <td>active</td>\n      <td>10</td>\n    </tr>\n    <tr>\n      <th>53</th>\n      <td>5.0</td>\n      <td>B1061</td>\n      <td>active</td>\n      <td>6</td>\n    </tr>\n    <tr>\n      <th>54</th>\n      <td>5.0</td>\n      <td>B1062</td>\n      <td>active</td>\n      <td>4</td>\n    </tr>\n    <tr>\n      <th>55</th>\n      <td>5.0</td>\n      <td>B1063</td>\n      <td>active</td>\n      <td>3</td>\n    </tr>\n    <tr>\n      <th>56</th>\n      <td>5.0</td>\n      <td>B1067</td>\n      <td>active</td>\n      <td>3</td>\n    </tr>\n    <tr>\n      <th>57</th>\n      <td>5.0</td>\n      <td>B1069</td>\n      <td>active</td>\n      <td>1</td>\n    </tr>\n    <tr>\n      <th>58</th>\n      <td>5.0</td>\n      <td>B1071</td>\n      <td>active</td>\n      <td>1</td>\n    </tr>\n  </tbody>\n</table>\n</div>",
                        "text/plain": "    Block Serial  Status  Count\n44    5.0  B1049  active     10\n46    5.0  B1051  active     10\n47    5.0  B1052  active      1\n50    5.0  B1058  active     10\n52    5.0  B1060  active     10\n53    5.0  B1061  active      6\n54    5.0  B1062  active      4\n55    5.0  B1063  active      3\n56    5.0  B1067  active      3\n57    5.0  B1069  active      1\n58    5.0  B1071  active      1"
                    },
                    "execution_count": 640,
                    "metadata": {},
                    "output_type": "execute_result"
                }
            ],
            "source": "active_boosters = count_launch[count_launch['Status'] == 'active']\nactive_boosters"
        },
        {
            "cell_type": "markdown",
            "metadata": {},
            "source": "DataFRame column names."
        },
        {
            "cell_type": "code",
            "execution_count": 641,
            "metadata": {},
            "outputs": [
                {
                    "data": {
                        "text/plain": "Index(['FlightNumber', 'Date', 'BoosterVersion', 'PayloadMass', 'Orbit',\n       'PayloadName', 'Customer', 'Outcome', 'Flights', 'GridFins', 'Reused',\n       'Legs', 'LandingPad', 'Block', 'Serial', 'Status', 'ReusedCount',\n       'LaunchSite', 'Longitude', 'Latitude', 'Block_Version', 'Class'],\n      dtype='object')"
                    },
                    "execution_count": 641,
                    "metadata": {},
                    "output_type": "execute_result"
                }
            ],
            "source": "df.columns"
        },
        {
            "cell_type": "markdown",
            "metadata": {},
            "source": "## Feature Engineering."
        },
        {
            "cell_type": "markdown",
            "metadata": {},
            "source": "Create new 'StatClass' column from the 'Status' column, and convert categorical variables into integers."
        },
        {
            "cell_type": "code",
            "execution_count": 642,
            "metadata": {
                "scrolled": true
            },
            "outputs": [],
            "source": "df['StatClass'] = df['Status'].replace({'active': 1})\n\ndf.loc[df['StatClass']!=1, 'StatClass'] = 0"
        },
        {
            "cell_type": "markdown",
            "metadata": {},
            "source": "Filter DataFrame with only the columns needed for the model. In order to prevent overfitting I'll be dropping some features with significant weight. This includes 'LaunchCount', 'Serial', 'Block'."
        },
        {
            "cell_type": "code",
            "execution_count": 643,
            "metadata": {},
            "outputs": [
                {
                    "data": {
                        "text/html": "<div>\n<style scoped>\n    .dataframe tbody tr th:only-of-type {\n        vertical-align: middle;\n    }\n\n    .dataframe tbody tr th {\n        vertical-align: top;\n    }\n\n    .dataframe thead th {\n        text-align: right;\n    }\n</style>\n<table border=\"1\" class=\"dataframe\">\n  <thead>\n    <tr style=\"text-align: right;\">\n      <th></th>\n      <th>FlightNumber</th>\n      <th>PayloadMass</th>\n      <th>Orbit</th>\n      <th>Outcome</th>\n      <th>Flights</th>\n      <th>GridFins</th>\n      <th>Legs</th>\n      <th>LandingPad</th>\n      <th>LaunchSite</th>\n    </tr>\n  </thead>\n  <tbody>\n    <tr>\n      <th>0</th>\n      <td>1</td>\n      <td>7457.0</td>\n      <td>LEO</td>\n      <td>None None</td>\n      <td>1</td>\n      <td>False</td>\n      <td>False</td>\n      <td>NaN</td>\n      <td>CCSFS SLC 40</td>\n    </tr>\n    <tr>\n      <th>1</th>\n      <td>2</td>\n      <td>525.0</td>\n      <td>LEO</td>\n      <td>None None</td>\n      <td>1</td>\n      <td>False</td>\n      <td>False</td>\n      <td>NaN</td>\n      <td>CCSFS SLC 40</td>\n    </tr>\n    <tr>\n      <th>2</th>\n      <td>3</td>\n      <td>677.0</td>\n      <td>ISS</td>\n      <td>None None</td>\n      <td>1</td>\n      <td>False</td>\n      <td>False</td>\n      <td>NaN</td>\n      <td>CCSFS SLC 40</td>\n    </tr>\n    <tr>\n      <th>3</th>\n      <td>4</td>\n      <td>500.0</td>\n      <td>PO</td>\n      <td>False Ocean</td>\n      <td>1</td>\n      <td>False</td>\n      <td>False</td>\n      <td>NaN</td>\n      <td>VAFB SLC 4E</td>\n    </tr>\n    <tr>\n      <th>4</th>\n      <td>5</td>\n      <td>3170.0</td>\n      <td>GTO</td>\n      <td>None None</td>\n      <td>1</td>\n      <td>False</td>\n      <td>False</td>\n      <td>NaN</td>\n      <td>CCSFS SLC 40</td>\n    </tr>\n  </tbody>\n</table>\n</div>",
                        "text/plain": "   FlightNumber  PayloadMass Orbit      Outcome  Flights  GridFins   Legs  \\\n0             1       7457.0   LEO    None None        1     False  False   \n1             2        525.0   LEO    None None        1     False  False   \n2             3        677.0   ISS    None None        1     False  False   \n3             4        500.0    PO  False Ocean        1     False  False   \n4             5       3170.0   GTO    None None        1     False  False   \n\n  LandingPad    LaunchSite  \n0        NaN  CCSFS SLC 40  \n1        NaN  CCSFS SLC 40  \n2        NaN  CCSFS SLC 40  \n3        NaN   VAFB SLC 4E  \n4        NaN  CCSFS SLC 40  "
                    },
                    "execution_count": 643,
                    "metadata": {},
                    "output_type": "execute_result"
                }
            ],
            "source": "feature_df = df[['FlightNumber','PayloadMass','Orbit','Outcome', 'Flights','GridFins','Legs','LandingPad','LaunchSite']]\nfeature_df.head()"
        },
        {
            "cell_type": "markdown",
            "metadata": {},
            "source": "Perform one_hot encoding using get_dummies."
        },
        {
            "cell_type": "code",
            "execution_count": 644,
            "metadata": {},
            "outputs": [
                {
                    "data": {
                        "text/html": "<div>\n<style scoped>\n    .dataframe tbody tr th:only-of-type {\n        vertical-align: middle;\n    }\n\n    .dataframe tbody tr th {\n        vertical-align: top;\n    }\n\n    .dataframe thead th {\n        text-align: right;\n    }\n</style>\n<table border=\"1\" class=\"dataframe\">\n  <thead>\n    <tr style=\"text-align: right;\">\n      <th></th>\n      <th>FlightNumber</th>\n      <th>PayloadMass</th>\n      <th>Flights</th>\n      <th>GridFins</th>\n      <th>Legs</th>\n      <th>Orbit_ES-L1</th>\n      <th>Orbit_GEO</th>\n      <th>Orbit_GTO</th>\n      <th>Orbit_HEO</th>\n      <th>Orbit_ISS</th>\n      <th>...</th>\n      <th>Outcome_True RTLS</th>\n      <th>LandingPad_ASOG</th>\n      <th>LandingPad_JRTI</th>\n      <th>LandingPad_JRTI-1</th>\n      <th>LandingPad_LZ-1</th>\n      <th>LandingPad_LZ-4</th>\n      <th>LandingPad_OCISLY</th>\n      <th>LaunchSite_CCSFS SLC 40</th>\n      <th>LaunchSite_KSC LC 39A</th>\n      <th>LaunchSite_VAFB SLC 4E</th>\n    </tr>\n  </thead>\n  <tbody>\n    <tr>\n      <th>0</th>\n      <td>1.0</td>\n      <td>7457.0</td>\n      <td>1.0</td>\n      <td>0.0</td>\n      <td>0.0</td>\n      <td>0.0</td>\n      <td>0.0</td>\n      <td>0.0</td>\n      <td>0.0</td>\n      <td>0.0</td>\n      <td>...</td>\n      <td>0.0</td>\n      <td>0.0</td>\n      <td>0.0</td>\n      <td>0.0</td>\n      <td>0.0</td>\n      <td>0.0</td>\n      <td>0.0</td>\n      <td>1.0</td>\n      <td>0.0</td>\n      <td>0.0</td>\n    </tr>\n    <tr>\n      <th>1</th>\n      <td>2.0</td>\n      <td>525.0</td>\n      <td>1.0</td>\n      <td>0.0</td>\n      <td>0.0</td>\n      <td>0.0</td>\n      <td>0.0</td>\n      <td>0.0</td>\n      <td>0.0</td>\n      <td>0.0</td>\n      <td>...</td>\n      <td>0.0</td>\n      <td>0.0</td>\n      <td>0.0</td>\n      <td>0.0</td>\n      <td>0.0</td>\n      <td>0.0</td>\n      <td>0.0</td>\n      <td>1.0</td>\n      <td>0.0</td>\n      <td>0.0</td>\n    </tr>\n    <tr>\n      <th>2</th>\n      <td>3.0</td>\n      <td>677.0</td>\n      <td>1.0</td>\n      <td>0.0</td>\n      <td>0.0</td>\n      <td>0.0</td>\n      <td>0.0</td>\n      <td>0.0</td>\n      <td>0.0</td>\n      <td>1.0</td>\n      <td>...</td>\n      <td>0.0</td>\n      <td>0.0</td>\n      <td>0.0</td>\n      <td>0.0</td>\n      <td>0.0</td>\n      <td>0.0</td>\n      <td>0.0</td>\n      <td>1.0</td>\n      <td>0.0</td>\n      <td>0.0</td>\n    </tr>\n    <tr>\n      <th>3</th>\n      <td>4.0</td>\n      <td>500.0</td>\n      <td>1.0</td>\n      <td>0.0</td>\n      <td>0.0</td>\n      <td>0.0</td>\n      <td>0.0</td>\n      <td>0.0</td>\n      <td>0.0</td>\n      <td>0.0</td>\n      <td>...</td>\n      <td>0.0</td>\n      <td>0.0</td>\n      <td>0.0</td>\n      <td>0.0</td>\n      <td>0.0</td>\n      <td>0.0</td>\n      <td>0.0</td>\n      <td>0.0</td>\n      <td>0.0</td>\n      <td>1.0</td>\n    </tr>\n    <tr>\n      <th>4</th>\n      <td>5.0</td>\n      <td>3170.0</td>\n      <td>1.0</td>\n      <td>0.0</td>\n      <td>0.0</td>\n      <td>0.0</td>\n      <td>0.0</td>\n      <td>1.0</td>\n      <td>0.0</td>\n      <td>0.0</td>\n      <td>...</td>\n      <td>0.0</td>\n      <td>0.0</td>\n      <td>0.0</td>\n      <td>0.0</td>\n      <td>0.0</td>\n      <td>0.0</td>\n      <td>0.0</td>\n      <td>1.0</td>\n      <td>0.0</td>\n      <td>0.0</td>\n    </tr>\n  </tbody>\n</table>\n<p>5 rows \u00d7 34 columns</p>\n</div>",
                        "text/plain": "   FlightNumber  PayloadMass  Flights  GridFins  Legs  Orbit_ES-L1  Orbit_GEO  \\\n0           1.0       7457.0      1.0       0.0   0.0          0.0        0.0   \n1           2.0        525.0      1.0       0.0   0.0          0.0        0.0   \n2           3.0        677.0      1.0       0.0   0.0          0.0        0.0   \n3           4.0        500.0      1.0       0.0   0.0          0.0        0.0   \n4           5.0       3170.0      1.0       0.0   0.0          0.0        0.0   \n\n   Orbit_GTO  Orbit_HEO  Orbit_ISS  ...  Outcome_True RTLS  LandingPad_ASOG  \\\n0        0.0        0.0        0.0  ...                0.0              0.0   \n1        0.0        0.0        0.0  ...                0.0              0.0   \n2        0.0        0.0        1.0  ...                0.0              0.0   \n3        0.0        0.0        0.0  ...                0.0              0.0   \n4        1.0        0.0        0.0  ...                0.0              0.0   \n\n   LandingPad_JRTI  LandingPad_JRTI-1  LandingPad_LZ-1  LandingPad_LZ-4  \\\n0              0.0                0.0              0.0              0.0   \n1              0.0                0.0              0.0              0.0   \n2              0.0                0.0              0.0              0.0   \n3              0.0                0.0              0.0              0.0   \n4              0.0                0.0              0.0              0.0   \n\n   LandingPad_OCISLY  LaunchSite_CCSFS SLC 40  LaunchSite_KSC LC 39A  \\\n0                0.0                      1.0                    0.0   \n1                0.0                      1.0                    0.0   \n2                0.0                      1.0                    0.0   \n3                0.0                      0.0                    0.0   \n4                0.0                      1.0                    0.0   \n\n   LaunchSite_VAFB SLC 4E  \n0                     0.0  \n1                     0.0  \n2                     0.0  \n3                     1.0  \n4                     0.0  \n\n[5 rows x 34 columns]"
                    },
                    "execution_count": 644,
                    "metadata": {},
                    "output_type": "execute_result"
                }
            ],
            "source": "one_hot = pd.get_dummies(feature_df, columns=['Orbit', 'Outcome', 'LandingPad', 'LaunchSite'])\none_hot = one_hot.astype(float)\none_hot.head()"
        },
        {
            "cell_type": "markdown",
            "metadata": {},
            "source": "Create an object using StandardScaler."
        },
        {
            "cell_type": "code",
            "execution_count": 645,
            "metadata": {},
            "outputs": [],
            "source": "transform = preprocessing.StandardScaler()"
        },
        {
            "cell_type": "markdown",
            "metadata": {},
            "source": "Fit transform the one_hot DataFrame and save ass the x variable for model training."
        },
        {
            "cell_type": "code",
            "execution_count": 646,
            "metadata": {},
            "outputs": [],
            "source": "x = transform.fit(one_hot).transform(one_hot)"
        },
        {
            "cell_type": "markdown",
            "metadata": {},
            "source": "Save the 'StatClass' column as an array, converted to float and save as the target variable."
        },
        {
            "cell_type": "code",
            "execution_count": 647,
            "metadata": {},
            "outputs": [],
            "source": "y = np.asarray(df['StatClass'].astype(float))"
        },
        {
            "cell_type": "markdown",
            "metadata": {},
            "source": "## Logistic Regression Model."
        },
        {
            "cell_type": "markdown",
            "metadata": {},
            "source": "Split the DataFrame for training."
        },
        {
            "cell_type": "code",
            "execution_count": 648,
            "metadata": {},
            "outputs": [],
            "source": "x_train, x_test, y_train, y_test = train_test_split(x,y, test_size=.2, random_state=15, stratify=y)#random_state:2,5,6,14,15"
        },
        {
            "cell_type": "markdown",
            "metadata": {},
            "source": "Create parameters, create a lr object, create GridSearchObjectCV, and fit the data."
        },
        {
            "cell_type": "code",
            "execution_count": 649,
            "metadata": {},
            "outputs": [
                {
                    "data": {
                        "text/plain": "GridSearchCV(cv=10, estimator=LogisticRegression(random_state=1),\n             param_grid={'C': [0.0001, 0.001, 0.01, 0.1, 1], 'penalty': ['l2'],\n                         'solver': ['lbfgs', 'newton-cg', 'liblinear']},\n             scoring='f1')"
                    },
                    "execution_count": 649,
                    "metadata": {},
                    "output_type": "execute_result"
                }
            ],
            "source": "params_lr = {'solver':['lbfgs','newton-cg','liblinear'],'penalty':['l2'], 'C':[.0001,.001,.01,.1,1]}\n\nlr = LogisticRegression(random_state=1)\n\nlr_grid = GridSearchCV(lr, params_lr, scoring='f1', cv=10)\n\nlr_grid.fit(x_train,y_train)"
        },
        {
            "cell_type": "markdown",
            "metadata": {},
            "source": "Print the best parameters."
        },
        {
            "cell_type": "code",
            "execution_count": 650,
            "metadata": {},
            "outputs": [
                {
                    "name": "stdout",
                    "output_type": "stream",
                    "text": "The best estimator: {'C': 1, 'penalty': 'l2', 'solver': 'liblinear'}\n"
                }
            ],
            "source": "print('The best estimator:',lr_grid.best_params_)"
        },
        {
            "cell_type": "markdown",
            "metadata": {},
            "source": "Save the GridSearchCV score."
        },
        {
            "cell_type": "code",
            "execution_count": 651,
            "metadata": {},
            "outputs": [],
            "source": "lr_test_score = lr_grid.score(x_test,y_test)"
        },
        {
            "cell_type": "markdown",
            "metadata": {},
            "source": "Predict using the test data and  plot the confusion matrix."
        },
        {
            "cell_type": "code",
            "execution_count": 652,
            "metadata": {
                "scrolled": true
            },
            "outputs": [
                {
                    "data": {
                        "image/png": "[encoded data removed]",
                        "text/plain": "<Figure size 432x288 with 2 Axes>"
                    },
                    "metadata": {
                        "needs_background": "light"
                    },
                    "output_type": "display_data"
                }
            ],
            "source": "lr_hat = lr_grid.predict(x_test)\nplot_confusion_matrix(y_test,lr_hat)"
        },
        {
            "cell_type": "markdown",
            "metadata": {},
            "source": "Predict the probability and save the log loss score."
        },
        {
            "cell_type": "code",
            "execution_count": 653,
            "metadata": {},
            "outputs": [],
            "source": "lr_proba = lr_grid.predict_proba(x_test)\n\nlr_log_loss = metrics.log_loss(y_test,lr_proba)"
        },
        {
            "cell_type": "code",
            "execution_count": 654,
            "metadata": {},
            "outputs": [
                {
                    "name": "stdout",
                    "output_type": "stream",
                    "text": "0.8695652173913043\n0.19581400200490395\n"
                }
            ],
            "source": "print(lr_grid.score(x_test,y_test))\nprint(metrics.log_loss(y_test,lr_proba))"
        },
        {
            "cell_type": "markdown",
            "metadata": {},
            "source": "## SVC Model."
        },
        {
            "cell_type": "markdown",
            "metadata": {},
            "source": "Split the DataFrame for training."
        },
        {
            "cell_type": "code",
            "execution_count": 655,
            "metadata": {},
            "outputs": [],
            "source": "x_train, x_test, y_train, y_test = train_test_split(x,y, test_size=.2, random_state=1, stratify=y)#random_state:1,6"
        },
        {
            "cell_type": "markdown",
            "metadata": {},
            "source": "Create parameters, create a svc object, create GridSearchObjectCV, and fit the data."
        },
        {
            "cell_type": "code",
            "execution_count": 656,
            "metadata": {},
            "outputs": [
                {
                    "data": {
                        "text/plain": "GridSearchCV(cv=10, estimator=SVC(probability=True, random_state=1),\n             param_grid={'C': array([   1.        ,    5.62341325,   31.6227766 ,  177.827941  ,\n       1000.        ]),\n                         'gamma': array([1.00000000e-03, 3.16227766e-02, 1.00000000e+00, 3.16227766e+01,\n       1.00000000e+03]),\n                         'kernel': ('linear', 'poly', 'rbf', 'sigmoid')},\n             scoring='f1')"
                    },
                    "execution_count": 656,
                    "metadata": {},
                    "output_type": "execute_result"
                }
            ],
            "source": "params_svc = {'kernel':('linear', 'poly', 'rbf', 'sigmoid'), 'C': np.logspace(0,3,5), 'gamma':np.logspace(-3,3,5)}\n\nsvc = SVC(probability=True, random_state=1)\n\nsvc_grid = GridSearchCV(svc, params_svc, scoring='f1', cv=10)\n\nsvc_grid.fit(x_train,y_train)"
        },
        {
            "cell_type": "markdown",
            "metadata": {},
            "source": "Print the best parameters."
        },
        {
            "cell_type": "code",
            "execution_count": 657,
            "metadata": {
                "scrolled": true
            },
            "outputs": [
                {
                    "name": "stdout",
                    "output_type": "stream",
                    "text": "Best parameters: {'C': 1.0, 'gamma': 0.03162277660168379, 'kernel': 'sigmoid'}\n"
                }
            ],
            "source": "print('Best parameters:', svc_grid.best_params_)"
        },
        {
            "cell_type": "markdown",
            "metadata": {},
            "source": "Save the GridSearchCV score."
        },
        {
            "cell_type": "code",
            "execution_count": 658,
            "metadata": {},
            "outputs": [],
            "source": "svc_test_score = svc_grid.score(x_test,y_test)"
        },
        {
            "cell_type": "markdown",
            "metadata": {},
            "source": "Predict using the test data and plot the confusion matrix."
        },
        {
            "cell_type": "code",
            "execution_count": 659,
            "metadata": {},
            "outputs": [
                {
                    "data": {
                        "image/png": "[encoded data removed]",
                        "text/plain": "<Figure size 432x288 with 2 Axes>"
                    },
                    "metadata": {
                        "needs_background": "light"
                    },
                    "output_type": "display_data"
                }
            ],
            "source": "svc_hat = svc_grid.predict(x_test)\nplot_confusion_matrix(y_test,svc_hat)"
        },
        {
            "cell_type": "markdown",
            "metadata": {},
            "source": "Predict the probability and save the log loss score."
        },
        {
            "cell_type": "code",
            "execution_count": 660,
            "metadata": {},
            "outputs": [],
            "source": "svc_proba = svc_grid.predict_proba(x_test)\n\nsvc_log_loss = metrics.log_loss(y_test, svc_proba)"
        },
        {
            "cell_type": "code",
            "execution_count": 661,
            "metadata": {},
            "outputs": [
                {
                    "name": "stdout",
                    "output_type": "stream",
                    "text": "0.8799999999999999\n0.291694244013763\n"
                }
            ],
            "source": "print(svc_grid.score(x_test,y_test))\nprint(metrics.log_loss(y_test, svc_proba))"
        },
        {
            "cell_type": "markdown",
            "metadata": {},
            "source": "## Decision Tree Classifier Model."
        },
        {
            "cell_type": "markdown",
            "metadata": {},
            "source": "Split the DataFrame for training."
        },
        {
            "cell_type": "code",
            "execution_count": 823,
            "metadata": {},
            "outputs": [],
            "source": "x_train, x_test, y_train, y_test = train_test_split(x,y, test_size=.2, random_state=10, stratify=y)#random_state:10"
        },
        {
            "cell_type": "markdown",
            "metadata": {},
            "source": "Create parameters, create a tree object, create GridSearchObjectCV, and fit the data."
        },
        {
            "cell_type": "code",
            "execution_count": 824,
            "metadata": {},
            "outputs": [
                {
                    "data": {
                        "text/plain": "GridSearchCV(cv=10, estimator=DecisionTreeClassifier(random_state=1),\n             param_grid={'criterion': ['gini', 'entropy'],\n                         'max_depth': [4, 6, 8, 10, 12, 14, 16, 18],\n                         'max_features': ['auto', 'sqrt', 'log2'],\n                         'min_samples_split': range(2, 10),\n                         'splitter': ['best', 'random']},\n             scoring='f1')"
                    },
                    "execution_count": 824,
                    "metadata": {},
                    "output_type": "execute_result"
                }
            ],
            "source": "params_tree = {'criterion':['gini','entropy'], 'splitter':['best','random'], 'max_depth':[2*n for n in range(2,10)], 'min_samples_split': range(2,10), 'max_features':['auto', 'sqrt', 'log2']}\n\ntree = DecisionTreeClassifier(random_state=1)\n\ntree_grid = GridSearchCV(tree, params_tree, scoring='f1', cv=10)\n\ntree_grid.fit(x_train,y_train)"
        },
        {
            "cell_type": "markdown",
            "metadata": {},
            "source": "Print the best parameters."
        },
        {
            "cell_type": "code",
            "execution_count": 825,
            "metadata": {},
            "outputs": [
                {
                    "name": "stdout",
                    "output_type": "stream",
                    "text": "Best parameters: {'criterion': 'gini', 'max_depth': 4, 'max_features': 'auto', 'min_samples_split': 9, 'splitter': 'best'}\n"
                }
            ],
            "source": "print('Best parameters:',tree_grid.best_params_)"
        },
        {
            "cell_type": "markdown",
            "metadata": {},
            "source": "Save the GridSearchCV score."
        },
        {
            "cell_type": "code",
            "execution_count": 826,
            "metadata": {},
            "outputs": [],
            "source": "tree_test_score = tree_grid.score(x_test,y_test)"
        },
        {
            "cell_type": "markdown",
            "metadata": {},
            "source": "Predict using the test data and plot the confusion matrix."
        },
        {
            "cell_type": "code",
            "execution_count": 827,
            "metadata": {},
            "outputs": [
                {
                    "data": {
                        "image/png": "[encoded data removed]",
                        "text/plain": "<Figure size 432x288 with 2 Axes>"
                    },
                    "metadata": {
                        "needs_background": "light"
                    },
                    "output_type": "display_data"
                }
            ],
            "source": "tree_hat = tree_grid.predict(x_test)\nplot_confusion_matrix(y_test,tree_hat)"
        },
        {
            "cell_type": "markdown",
            "metadata": {},
            "source": "Predict the probability and save the log loss score."
        },
        {
            "cell_type": "code",
            "execution_count": 828,
            "metadata": {},
            "outputs": [],
            "source": "tree_proba = tree_grid.predict_proba(x_test)\n\ntree_log_loss = metrics.log_loss(y_test, tree_proba)"
        },
        {
            "cell_type": "code",
            "execution_count": 829,
            "metadata": {},
            "outputs": [
                {
                    "name": "stdout",
                    "output_type": "stream",
                    "text": "0.8799999999999999\n0.276094545807793\n"
                }
            ],
            "source": "print(tree_grid.score(x_test,y_test))\nprint(metrics.log_loss(y_test, tree_proba))"
        },
        {
            "cell_type": "markdown",
            "metadata": {},
            "source": "## KNearest Neighbor Classifier Model."
        },
        {
            "cell_type": "markdown",
            "metadata": {},
            "source": "Split the DataFrame for training."
        },
        {
            "cell_type": "code",
            "execution_count": 915,
            "metadata": {},
            "outputs": [],
            "source": "x_train, x_test, y_train, y_test = train_test_split(x,y, test_size=.2, random_state=9, stratify=y)#random_state:1,3,6,9,10"
        },
        {
            "cell_type": "markdown",
            "metadata": {},
            "source": "Create parameters, create a tree object, create GridSearchObjectCV, and fit the data."
        },
        {
            "cell_type": "code",
            "execution_count": 916,
            "metadata": {},
            "outputs": [
                {
                    "data": {
                        "text/plain": "GridSearchCV(cv=10, estimator=KNeighborsClassifier(),\n             param_grid={'algorithm': ['auto', 'ball_tree', 'kd_tree', 'brute'],\n                         'n_neighbors': [6], 'p': range(2, 10),\n                         'weights': ['uniform', 'distance']},\n             scoring='f1')"
                    },
                    "execution_count": 916,
                    "metadata": {},
                    "output_type": "execute_result"
                }
            ],
            "source": "params_knn = {'n_neighbors': [6], 'weights':['uniform','distance'], 'algorithm': ['auto', 'ball_tree', 'kd_tree', 'brute'], 'p': range(2,10)}\n\nknn = KNeighborsClassifier()\n\nknn_grid = GridSearchCV(knn, params_knn, scoring='f1', cv=10)\n\nknn_grid.fit(x_train,y_train)"
        },
        {
            "cell_type": "markdown",
            "metadata": {},
            "source": "Print the best parameters."
        },
        {
            "cell_type": "code",
            "execution_count": 917,
            "metadata": {
                "scrolled": true
            },
            "outputs": [
                {
                    "name": "stdout",
                    "output_type": "stream",
                    "text": "Best parameters: {'algorithm': 'auto', 'n_neighbors': 6, 'p': 4, 'weights': 'distance'}\n"
                }
            ],
            "source": "print('Best parameters:', knn_grid.best_params_)"
        },
        {
            "cell_type": "markdown",
            "metadata": {},
            "source": "Save the GridSearchCV score."
        },
        {
            "cell_type": "code",
            "execution_count": 918,
            "metadata": {},
            "outputs": [],
            "source": "knn_test_score = knn_grid.score(x_test,y_test)"
        },
        {
            "cell_type": "markdown",
            "metadata": {},
            "source": "Predict using the test data and plot the confusion matrix."
        },
        {
            "cell_type": "code",
            "execution_count": 919,
            "metadata": {},
            "outputs": [
                {
                    "data": {
                        "image/png": "[encoded data removed]",
                        "text/plain": "<Figure size 432x288 with 2 Axes>"
                    },
                    "metadata": {
                        "needs_background": "light"
                    },
                    "output_type": "display_data"
                }
            ],
            "source": "knn_hat = knn_grid.predict(x_test)\nplot_confusion_matrix(y_test,knn_hat)"
        },
        {
            "cell_type": "markdown",
            "metadata": {},
            "source": "Predict the probability and save the log loss score."
        },
        {
            "cell_type": "code",
            "execution_count": 920,
            "metadata": {},
            "outputs": [],
            "source": "knn_proba = knn_grid.predict_proba(x_test)\n\nknn_log_loss = metrics.log_loss(y_test, knn_proba)"
        },
        {
            "cell_type": "code",
            "execution_count": 921,
            "metadata": {},
            "outputs": [
                {
                    "name": "stdout",
                    "output_type": "stream",
                    "text": "0.888888888888889\n0.2600716712923132\n"
                }
            ],
            "source": "print(knn_grid.score(x_test,y_test))\nprint(metrics.log_loss(y_test, knn_proba))"
        },
        {
            "cell_type": "markdown",
            "metadata": {},
            "source": "## Model Evaluation."
        },
        {
            "cell_type": "markdown",
            "metadata": {},
            "source": "Create function for cross_val_score"
        },
        {
            "cell_type": "code",
            "execution_count": 924,
            "metadata": {},
            "outputs": [],
            "source": "def cross_val_function(x, y, n_split):\n    \n    global df\n    \n    from sklearn.linear_model import LogisticRegression\n    from sklearn.svm import SVC\n    from sklearn.tree import DecisionTreeClassifier\n    from sklearn.neighbors import KNeighborsClassifier\n    from sklearn.model_selection import KFold, cross_val_score\n    \n    \n    models = []\n    models.append(('LR', LogisticRegression()))\n    models.append(('SVC', SVC()))\n    models.append(('TREE', DecisionTreeClassifier()))\n    models.append(('KNN', KNeighborsClassifier()))\n    \n\n    main_list = []\n    \n    for name, model in models:\n        \n        sub_list = []\n       \n        kfold = KFold(n_splits=int(n_split))\n        cv_results = cross_val_score(model, x, y, cv=kfold, scoring='accuracy')\n        sub_list.append(name)\n        sub_list.append(cv_results.mean().round(decimals=2))\n        sub_list.append(cv_results.std().round(decimals=2))\n        \n        main_list.append(sub_list)\n        \n     \n    df = pd.DataFrame(main_list)\n    \n    df.columns = ['model', 'cv_score', 'cv_std']\n    \n    return(df)"
        },
        {
            "cell_type": "markdown",
            "metadata": {},
            "source": "Call the cross_val_score function."
        },
        {
            "cell_type": "code",
            "execution_count": 925,
            "metadata": {},
            "outputs": [
                {
                    "data": {
                        "text/html": "<div>\n<style scoped>\n    .dataframe tbody tr th:only-of-type {\n        vertical-align: middle;\n    }\n\n    .dataframe tbody tr th {\n        vertical-align: top;\n    }\n\n    .dataframe thead th {\n        text-align: right;\n    }\n</style>\n<table border=\"1\" class=\"dataframe\">\n  <thead>\n    <tr style=\"text-align: right;\">\n      <th></th>\n      <th>model</th>\n      <th>cv_score</th>\n      <th>cv_std</th>\n    </tr>\n  </thead>\n  <tbody>\n    <tr>\n      <th>0</th>\n      <td>LR</td>\n      <td>0.91</td>\n      <td>0.14</td>\n    </tr>\n    <tr>\n      <th>1</th>\n      <td>SVC</td>\n      <td>0.90</td>\n      <td>0.11</td>\n    </tr>\n    <tr>\n      <th>2</th>\n      <td>TREE</td>\n      <td>0.83</td>\n      <td>0.20</td>\n    </tr>\n    <tr>\n      <th>3</th>\n      <td>KNN</td>\n      <td>0.87</td>\n      <td>0.15</td>\n    </tr>\n  </tbody>\n</table>\n</div>",
                        "text/plain": "  model  cv_score  cv_std\n0    LR      0.91    0.14\n1   SVC      0.90    0.11\n2  TREE      0.83    0.20\n3   KNN      0.87    0.15"
                    },
                    "execution_count": 925,
                    "metadata": {},
                    "output_type": "execute_result"
                }
            ],
            "source": "cross_val_function(x, y, 10)"
        },
        {
            "cell_type": "markdown",
            "metadata": {},
            "source": "Create list and append score results from the models."
        },
        {
            "cell_type": "code",
            "execution_count": 926,
            "metadata": {},
            "outputs": [],
            "source": "lr_list = ['LR']\nsvc_list = ['SVC']\ntree_list = ['TREE']\nknn_list = ['KNN']\nmetod_list = []\n\nlr_list.append(lr_test_score)\nlr_list.append(lr_log_loss)\n\nsvc_list.append(svc_test_score)\nsvc_list.append(svc_log_loss)\n\ntree_list.append(tree_test_score)\ntree_list.append(tree_log_loss)\n\nknn_list.append(knn_test_score)\nknn_list.append(knn_log_loss)\n\nmetod_list.append(lr_list)\nmetod_list.append(svc_list)\nmetod_list.append(tree_list)\nmetod_list.append(knn_list)"
        },
        {
            "cell_type": "markdown",
            "metadata": {},
            "source": "Create a DataFrame from the lists and the score results."
        },
        {
            "cell_type": "code",
            "execution_count": 927,
            "metadata": {},
            "outputs": [
                {
                    "data": {
                        "text/html": "<div>\n<style scoped>\n    .dataframe tbody tr th:only-of-type {\n        vertical-align: middle;\n    }\n\n    .dataframe tbody tr th {\n        vertical-align: top;\n    }\n\n    .dataframe thead th {\n        text-align: right;\n    }\n</style>\n<table border=\"1\" class=\"dataframe\">\n  <thead>\n    <tr style=\"text-align: right;\">\n      <th></th>\n      <th>Model</th>\n      <th>Test_score</th>\n      <th>LogLoss</th>\n    </tr>\n  </thead>\n  <tbody>\n    <tr>\n      <th>0</th>\n      <td>LR</td>\n      <td>0.87</td>\n      <td>0.20</td>\n    </tr>\n    <tr>\n      <th>1</th>\n      <td>SVC</td>\n      <td>0.88</td>\n      <td>0.29</td>\n    </tr>\n    <tr>\n      <th>2</th>\n      <td>TREE</td>\n      <td>0.88</td>\n      <td>0.28</td>\n    </tr>\n    <tr>\n      <th>3</th>\n      <td>KNN</td>\n      <td>0.89</td>\n      <td>0.26</td>\n    </tr>\n  </tbody>\n</table>\n</div>",
                        "text/plain": "  Model  Test_score  LogLoss\n0    LR        0.87     0.20\n1   SVC        0.88     0.29\n2  TREE        0.88     0.28\n3   KNN        0.89     0.26"
                    },
                    "execution_count": 927,
                    "metadata": {},
                    "output_type": "execute_result"
                }
            ],
            "source": "metod_df = pd.DataFrame(metod_list).round(decimals=2)\nmetod_df.columns = ['Model', 'Test_score', 'LogLoss']\nmetod_df"
        },
        {
            "cell_type": "markdown",
            "metadata": {},
            "source": "Plot a bar plot using matplotlib with the values from metod_df."
        },
        {
            "cell_type": "code",
            "execution_count": 928,
            "metadata": {},
            "outputs": [
                {
                    "data": {
                        "image/png": "[encoded data removed]",
                        "text/plain": "<Figure size 864x504 with 1 Axes>"
                    },
                    "metadata": {
                        "needs_background": "light"
                    },
                    "output_type": "display_data"
                }
            ],
            "source": "labels =  metod_df.drop(['Model'], axis=1).columns.tolist()\nlr_bar = metod_df.iloc[0,1:].tolist()\nsvm_bar = metod_df.iloc[1,1:].tolist()\ntree_bar = metod_df.iloc[2,1:].tolist()\nknn_bar = metod_df.iloc[3,1:].tolist()\n\nlabel_loc = np.arange(len(labels))\nwidth = .10\n\nxtick_loc = np.arange(len(labels))\n\nfig, ax = plt.subplots(figsize=(12,7))\nlr_label = ax.bar(label_loc - 2*width +.05, lr_bar, width, label='LR', color='bisque')\nsvm_label = ax.bar(label_loc - width +.05, svm_bar, width, label='SVM', color='burlywood')\ntree_label = ax.bar(label_loc +.05, tree_bar, width, label='TREE', color='tan')\nknn_label = ax.bar(label_loc + width + .05, knn_bar, width, label='KNN', color= 'darkkhaki')\n\n\nax.set_xticks(xtick_loc)\nax.set_xticklabels(labels, rotation=90, fontsize=15)\nax.set_title('Classification Model Evaluation and Selection.')\nax.grid(b=True, color='darkgray', linestyle='-.', linewidth=.5, alpha=.8, axis='y')\nax.set_ylabel('Score', fontsize=15)\nax.set_facecolor('gainsboro')\nax.legend()\n\nlist1 = []\n\nfor i, v in metod_df.iterrows():\n    list1.append(v[1])\n    list1.append(v[2])\n    \nrects = ax.patches\n\nannot = [list1[index] for index in range(len(list1))]\n\nfor rects, annot in zip(rects, annot):\n    height = rects.get_height()\n    ax.text(rects.get_x() + rects.get_width() / 2, height, annot, ha='center', va='bottom')\n\nplt.show()"
        }
    ],
    "metadata": {
        "celltoolbar": "Raw Cell Format",
        "kernelspec": {
            "display_name": "Python 3.8",
            "language": "python",
            "name": "python3"
        },
        "language_info": {
            "codemirror_mode": {
                "name": "ipython",
                "version": 3
            },
            "file_extension": ".py",
            "mimetype": "text/x-python",
            "name": "python",
            "nbconvert_exporter": "python",
            "pygments_lexer": "ipython3",
            "version": "3.8.12"
        }
    },
    "nbformat": 4,
    "nbformat_minor": 4
}